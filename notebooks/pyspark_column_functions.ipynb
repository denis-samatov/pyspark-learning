{
  "nbformat": 4,
  "nbformat_minor": 0,
  "metadata": {
    "colab": {
      "provenance": []
    },
    "kernelspec": {
      "name": "python3",
      "display_name": "Python 3"
    },
    "language_info": {
      "name": "python"
    }
  },
  "cells": [
    {
      "cell_type": "markdown",
      "source": [
        "# 0. **Install PySpark**:"
      ],
      "metadata": {
        "id": "TXUnvNbxbFHK"
      }
    },
    {
      "cell_type": "code",
      "source": [
        "!pip install pyspark"
      ],
      "metadata": {
        "colab": {
          "base_uri": "https://localhost:8080/"
        },
        "id": "hTf97qZabeZg",
        "outputId": "44186d2f-8300-4d52-d3da-41b3a7ccee82"
      },
      "execution_count": 19,
      "outputs": [
        {
          "output_type": "stream",
          "name": "stdout",
          "text": [
            "Requirement already satisfied: pyspark in /usr/local/lib/python3.10/dist-packages (3.5.1)\n",
            "Requirement already satisfied: py4j==0.10.9.7 in /usr/local/lib/python3.10/dist-packages (from pyspark) (0.10.9.7)\n"
          ]
        }
      ]
    },
    {
      "cell_type": "markdown",
      "source": [
        "# **Full Script with Comments**\n"
      ],
      "metadata": {
        "id": "AiwIg0o6Pni9"
      }
    },
    {
      "cell_type": "code",
      "source": [
        "from pyspark.sql import SparkSession\n",
        "from pyspark.sql.functions import expr, col, when\n",
        "from pyspark.sql.types import StructType, StructField, StringType, ArrayType, MapType"
      ],
      "metadata": {
        "id": "2Pkc5FFWPr_R"
      },
      "execution_count": 20,
      "outputs": []
    },
    {
      "cell_type": "code",
      "source": [
        "# Create SparkSession\n",
        "spark = SparkSession.builder.appName('SparkByExamples.com').getOrCreate()"
      ],
      "metadata": {
        "id": "QJ-VxuQnPs3o"
      },
      "execution_count": 21,
      "outputs": []
    },
    {
      "cell_type": "code",
      "source": [
        "# Sample data and schema\n",
        "data = [(\"James\", \"Bond\", \"100\", None),\n",
        "        (\"Ann\", \"Varsa\", \"200\", 'F'),\n",
        "        (\"Tom Cruise\", \"XXX\", \"400\", ''),\n",
        "        (\"Tom Brand\", None, \"400\", 'M')]\n",
        "\n",
        "columns = [\"fname\", \"lname\", \"id\", \"gender\"]\n",
        "df = spark.createDataFrame(data, columns)"
      ],
      "metadata": {
        "id": "jUNkfWaFPuaM"
      },
      "execution_count": 43,
      "outputs": []
    },
    {
      "cell_type": "code",
      "source": [
        "# Alias\n",
        "df.select(df.fname.alias(\"first_name\"),\n",
        "          df.lname.alias(\"last_name\"),\n",
        "          expr(\"fname || ',' || lname\").alias(\"fullName\")).show()"
      ],
      "metadata": {
        "colab": {
          "base_uri": "https://localhost:8080/"
        },
        "id": "I6T4J6ldPwN6",
        "outputId": "918b5f83-d285-4594-8312-db835f916619"
      },
      "execution_count": 23,
      "outputs": [
        {
          "output_type": "stream",
          "name": "stdout",
          "text": [
            "+----------+---------+--------------+\n",
            "|first_name|last_name|      fullName|\n",
            "+----------+---------+--------------+\n",
            "|     James|     Bond|    James,Bond|\n",
            "|       Ann|    Varsa|     Ann,Varsa|\n",
            "|Tom Cruise|      XXX|Tom Cruise,XXX|\n",
            "| Tom Brand|     NULL|          NULL|\n",
            "+----------+---------+--------------+\n",
            "\n"
          ]
        }
      ]
    },
    {
      "cell_type": "code",
      "source": [
        "# Sort by ascending and descending order\n",
        "df.sort(df.fname.asc()).show()\n",
        "df.sort(df.fname.desc()).show()"
      ],
      "metadata": {
        "colab": {
          "base_uri": "https://localhost:8080/"
        },
        "id": "pKND0hAYQeew",
        "outputId": "710affe6-522e-4f05-c522-7f384d324339"
      },
      "execution_count": 24,
      "outputs": [
        {
          "output_type": "stream",
          "name": "stdout",
          "text": [
            "+----------+-----+---+------+\n",
            "|     fname|lname| id|gender|\n",
            "+----------+-----+---+------+\n",
            "|       Ann|Varsa|200|     F|\n",
            "|     James| Bond|100|  NULL|\n",
            "| Tom Brand| NULL|400|     M|\n",
            "|Tom Cruise|  XXX|400|      |\n",
            "+----------+-----+---+------+\n",
            "\n",
            "+----------+-----+---+------+\n",
            "|     fname|lname| id|gender|\n",
            "+----------+-----+---+------+\n",
            "|Tom Cruise|  XXX|400|      |\n",
            "| Tom Brand| NULL|400|     M|\n",
            "|     James| Bond|100|  NULL|\n",
            "|       Ann|Varsa|200|     F|\n",
            "+----------+-----+---+------+\n",
            "\n"
          ]
        }
      ]
    },
    {
      "cell_type": "code",
      "source": [
        "# Cast\n",
        "df.select(df.fname, df.id.cast(\"int\")).printSchema()"
      ],
      "metadata": {
        "colab": {
          "base_uri": "https://localhost:8080/"
        },
        "id": "LeZRqIc1Qfe9",
        "outputId": "07555cbc-5ab9-4a75-95b3-5d02e4b5642b"
      },
      "execution_count": 25,
      "outputs": [
        {
          "output_type": "stream",
          "name": "stdout",
          "text": [
            "root\n",
            " |-- fname: string (nullable = true)\n",
            " |-- id: integer (nullable = true)\n",
            "\n"
          ]
        }
      ]
    },
    {
      "cell_type": "code",
      "source": [
        "# Between\n",
        "df.filter(df.id.between(100, 300)).show()"
      ],
      "metadata": {
        "colab": {
          "base_uri": "https://localhost:8080/"
        },
        "id": "1b1cjhUTQgoR",
        "outputId": "507d55d9-b5d4-4d4b-857b-fc0e6f4ddaf7"
      },
      "execution_count": 26,
      "outputs": [
        {
          "output_type": "stream",
          "name": "stdout",
          "text": [
            "+-----+-----+---+------+\n",
            "|fname|lname| id|gender|\n",
            "+-----+-----+---+------+\n",
            "|James| Bond|100|  NULL|\n",
            "|  Ann|Varsa|200|     F|\n",
            "+-----+-----+---+------+\n",
            "\n"
          ]
        }
      ]
    },
    {
      "cell_type": "code",
      "source": [
        "# Contains\n",
        "df.filter(df.fname.contains(\"Cruise\")).show()"
      ],
      "metadata": {
        "colab": {
          "base_uri": "https://localhost:8080/"
        },
        "id": "YMUJcl81QiiW",
        "outputId": "4592f2c3-feb2-434d-c9fc-e302c40deb87"
      },
      "execution_count": 27,
      "outputs": [
        {
          "output_type": "stream",
          "name": "stdout",
          "text": [
            "+----------+-----+---+------+\n",
            "|     fname|lname| id|gender|\n",
            "+----------+-----+---+------+\n",
            "|Tom Cruise|  XXX|400|      |\n",
            "+----------+-----+---+------+\n",
            "\n"
          ]
        }
      ]
    },
    {
      "cell_type": "code",
      "source": [
        "# Startswith, endswith\n",
        "df.filter(df.fname.startswith(\"T\")).show()\n",
        "df.filter(df.fname.endswith(\"Cruise\")).show()"
      ],
      "metadata": {
        "colab": {
          "base_uri": "https://localhost:8080/"
        },
        "id": "mxi1i5ljQjoM",
        "outputId": "9c265e70-7725-4355-c0b7-837bd41070a4"
      },
      "execution_count": 28,
      "outputs": [
        {
          "output_type": "stream",
          "name": "stdout",
          "text": [
            "+----------+-----+---+------+\n",
            "|     fname|lname| id|gender|\n",
            "+----------+-----+---+------+\n",
            "|Tom Cruise|  XXX|400|      |\n",
            "| Tom Brand| NULL|400|     M|\n",
            "+----------+-----+---+------+\n",
            "\n",
            "+----------+-----+---+------+\n",
            "|     fname|lname| id|gender|\n",
            "+----------+-----+---+------+\n",
            "|Tom Cruise|  XXX|400|      |\n",
            "+----------+-----+---+------+\n",
            "\n"
          ]
        }
      ]
    },
    {
      "cell_type": "code",
      "source": [
        "# isNull & isNotNull\n",
        "df.filter(df.lname.isNull()).show()\n",
        "df.filter(df.lname.isNotNull()).show()"
      ],
      "metadata": {
        "colab": {
          "base_uri": "https://localhost:8080/"
        },
        "id": "RyaP5TzvQkyu",
        "outputId": "7300e6f3-a399-4c69-e26d-0b85a96f143e"
      },
      "execution_count": 29,
      "outputs": [
        {
          "output_type": "stream",
          "name": "stdout",
          "text": [
            "+---------+-----+---+------+\n",
            "|    fname|lname| id|gender|\n",
            "+---------+-----+---+------+\n",
            "|Tom Brand| NULL|400|     M|\n",
            "+---------+-----+---+------+\n",
            "\n",
            "+----------+-----+---+------+\n",
            "|     fname|lname| id|gender|\n",
            "+----------+-----+---+------+\n",
            "|     James| Bond|100|  NULL|\n",
            "|       Ann|Varsa|200|     F|\n",
            "|Tom Cruise|  XXX|400|      |\n",
            "+----------+-----+---+------+\n",
            "\n"
          ]
        }
      ]
    },
    {
      "cell_type": "code",
      "source": [
        "# Like (incorrect usage, corrected below)\n",
        "df.select(df.fname, df.lname, df.id).filter(df.fname.like(\"%om\")).show()"
      ],
      "metadata": {
        "colab": {
          "base_uri": "https://localhost:8080/"
        },
        "id": "RrMaqaOTQlk6",
        "outputId": "ba0b41ad-74fe-466a-a4db-1a702c33cdbd"
      },
      "execution_count": 46,
      "outputs": [
        {
          "output_type": "stream",
          "name": "stdout",
          "text": [
            "+-----+-----+---+\n",
            "|fname|lname| id|\n",
            "+-----+-----+---+\n",
            "+-----+-----+---+\n",
            "\n"
          ]
        }
      ]
    },
    {
      "cell_type": "code",
      "source": [
        "# Substr\n",
        "df.select(df.fname.substr(1, 2).alias(\"substr\")).show()"
      ],
      "metadata": {
        "colab": {
          "base_uri": "https://localhost:8080/"
        },
        "id": "7jiwltrkQmee",
        "outputId": "363d36f1-f848-48fe-8e4a-4cfe2c2b35e3"
      },
      "execution_count": 47,
      "outputs": [
        {
          "output_type": "stream",
          "name": "stdout",
          "text": [
            "+------+\n",
            "|substr|\n",
            "+------+\n",
            "|    Ja|\n",
            "|    An|\n",
            "|    To|\n",
            "|    To|\n",
            "+------+\n",
            "\n"
          ]
        }
      ]
    },
    {
      "cell_type": "code",
      "source": [
        "# When & Otherwise\n",
        "df.select(df.fname, df.lname,\n",
        "          when(df.gender == \"M\", \"Male\")\n",
        "          .when(df.gender == \"F\", \"Female\")\n",
        "          .when(df.gender == None, \"\")\n",
        "          .otherwise(df.gender).alias(\"new_gender\")).show()"
      ],
      "metadata": {
        "colab": {
          "base_uri": "https://localhost:8080/"
        },
        "id": "1U96lHUzQoe4",
        "outputId": "47501bad-59d5-4b89-fc64-9fac3a659c3c"
      },
      "execution_count": 48,
      "outputs": [
        {
          "output_type": "stream",
          "name": "stdout",
          "text": [
            "+----------+-----+----------+\n",
            "|     fname|lname|new_gender|\n",
            "+----------+-----+----------+\n",
            "|     James| Bond|      NULL|\n",
            "|       Ann|Varsa|    Female|\n",
            "|Tom Cruise|  XXX|          |\n",
            "| Tom Brand| NULL|      Male|\n",
            "+----------+-----+----------+\n",
            "\n"
          ]
        }
      ]
    },
    {
      "cell_type": "code",
      "source": [
        "# isin\n",
        "li = [\"100\", \"200\"]\n",
        "df.select(df.fname, df.lname, df.id).filter(df.id.isin(li)).show()"
      ],
      "metadata": {
        "colab": {
          "base_uri": "https://localhost:8080/"
        },
        "id": "ze7XazV9QqHt",
        "outputId": "f98a5bbb-f9c1-485a-f389-83d4772d73ed"
      },
      "execution_count": 49,
      "outputs": [
        {
          "output_type": "stream",
          "name": "stdout",
          "text": [
            "+-----+-----+---+\n",
            "|fname|lname| id|\n",
            "+-----+-----+---+\n",
            "|James| Bond|100|\n",
            "|  Ann|Varsa|200|\n",
            "+-----+-----+---+\n",
            "\n"
          ]
        }
      ]
    },
    {
      "cell_type": "code",
      "source": [
        "# Working with complex data types\n",
        "data = [((\"James\", \"Bond\"), [\"Java\", \"C#\"], {'hair': 'black', 'eye': 'brown'}),\n",
        "        ((\"Ann\", \"Varsa\"), [\".NET\", \"Python\"], {'hair': 'brown', 'eye': 'black'}),\n",
        "        ((\"Tom Cruise\", \"\"), [\"Python\", \"Scala\"], {'hair': 'red', 'eye': 'grey'}),\n",
        "        ((\"Tom Brand\", None), [\"Perl\", \"Ruby\"], {'hair': 'black', 'eye': 'blue'})]\n",
        "\n",
        "schema = StructType([\n",
        "    StructField('name', StructType([\n",
        "        StructField('fname', StringType(), True),\n",
        "        StructField('lname', StringType(), True)])),\n",
        "    StructField('languages', ArrayType(StringType()), True),\n",
        "    StructField('properties', MapType(StringType(), StringType()), True)\n",
        "])\n",
        "\n",
        "df = spark.createDataFrame(data, schema)\n",
        "df.printSchema()"
      ],
      "metadata": {
        "colab": {
          "base_uri": "https://localhost:8080/"
        },
        "id": "ZSql40nLQsN_",
        "outputId": "5efd094f-4bdc-4d6b-8b7c-bd2d000e3fb1"
      },
      "execution_count": 50,
      "outputs": [
        {
          "output_type": "stream",
          "name": "stdout",
          "text": [
            "root\n",
            " |-- name: struct (nullable = true)\n",
            " |    |-- fname: string (nullable = true)\n",
            " |    |-- lname: string (nullable = true)\n",
            " |-- languages: array (nullable = true)\n",
            " |    |-- element: string (containsNull = true)\n",
            " |-- properties: map (nullable = true)\n",
            " |    |-- key: string\n",
            " |    |-- value: string (valueContainsNull = true)\n",
            "\n"
          ]
        }
      ]
    },
    {
      "cell_type": "code",
      "source": [
        "# getItem\n",
        "df.select(df.languages.getItem(1)).show()\n",
        "df.select(df.properties.getItem(\"hair\")).show()"
      ],
      "metadata": {
        "colab": {
          "base_uri": "https://localhost:8080/"
        },
        "id": "fwSZB2A4Qt5k",
        "outputId": "7a2864d0-ba56-4c89-ba7b-66742fc4a85b"
      },
      "execution_count": 51,
      "outputs": [
        {
          "output_type": "stream",
          "name": "stdout",
          "text": [
            "+------------+\n",
            "|languages[1]|\n",
            "+------------+\n",
            "|          C#|\n",
            "|      Python|\n",
            "|       Scala|\n",
            "|        Ruby|\n",
            "+------------+\n",
            "\n",
            "+----------------+\n",
            "|properties[hair]|\n",
            "+----------------+\n",
            "|           black|\n",
            "|           brown|\n",
            "|             red|\n",
            "|           black|\n",
            "+----------------+\n",
            "\n"
          ]
        }
      ]
    },
    {
      "cell_type": "code",
      "source": [
        "# getField from Struct or Map\n",
        "df.select(df.properties.getField(\"hair\")).show()\n",
        "df.select(df.name.getField(\"fname\")).show()"
      ],
      "metadata": {
        "colab": {
          "base_uri": "https://localhost:8080/"
        },
        "id": "FkaKy2-ZRCa8",
        "outputId": "b6600517-6f29-491e-9352-afbe82541f40"
      },
      "execution_count": 36,
      "outputs": [
        {
          "output_type": "stream",
          "name": "stdout",
          "text": [
            "+----------------+\n",
            "|properties[hair]|\n",
            "+----------------+\n",
            "|           black|\n",
            "|           brown|\n",
            "|             red|\n",
            "|           black|\n",
            "+----------------+\n",
            "\n",
            "+----------+\n",
            "|name.fname|\n",
            "+----------+\n",
            "|     James|\n",
            "|       Ann|\n",
            "|Tom Cruise|\n",
            "| Tom Brand|\n",
            "+----------+\n",
            "\n"
          ]
        }
      ]
    },
    {
      "cell_type": "markdown",
      "source": [
        "# **Explanation and Key Points**"
      ],
      "metadata": {
        "id": "j07-1cGjQ0fm"
      }
    },
    {
      "cell_type": "markdown",
      "source": [
        "\n",
        "1. **Alias**:\n",
        "   - Creates aliases for columns and constructs a full name using `expr`.\n",
        "\n",
        "2. **Sorting**:\n",
        "   - Sorts the DataFrame by the `fname` column in both ascending and descending order.\n",
        "\n",
        "3. **Casting**:\n",
        "   - Casts the `id` column from string to integer type and displays the schema.\n",
        "\n",
        "4. **Filtering**:\n",
        "   - Various filters using `between`, `contains`, `startswith`, `endswith`, `isNull`, and `isNotNull`.\n",
        "\n",
        "5. **Pattern Matching**:\n",
        "   - Filters rows where `fname` matches a pattern using `like`.\n",
        "\n",
        "6. **Substring**:\n",
        "   - Extracts a substring from the `fname` column.\n",
        "\n",
        "7. **Conditional Logic**:\n",
        "   - Uses `when` and `otherwise` to create a new column with conditional values based on `gender`.\n",
        "\n",
        "8. **isin**:\n",
        "   - Filters rows where `id` is in a given list.\n",
        "\n",
        "9. **Complex Data Types**:\n",
        "   - Demonstrates handling of nested structures like arrays and maps.\n",
        "   - Uses `getItem` and `getField` to access elements of arrays and fields of maps and structs."
      ],
      "metadata": {
        "id": "0GXJdjYmRS-9"
      }
    }
  ]
}