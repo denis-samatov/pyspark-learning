{
  "nbformat": 4,
  "nbformat_minor": 0,
  "metadata": {
    "colab": {
      "provenance": [],
      "collapsed_sections": [
        "dJv3fFeNDjYe",
        "hix6R8B3Bzfp",
        "0JYDcxpZCKyz",
        "z2Q1nEVDCSHz",
        "npPJZfn2CY44",
        "9dPRaZEfCeZu",
        "81JerKdrCkyO"
      ]
    },
    "kernelspec": {
      "name": "python3",
      "display_name": "Python 3"
    },
    "language_info": {
      "name": "python"
    }
  },
  "cells": [
    {
      "cell_type": "markdown",
      "source": [
        "# 1. **Install PySpark**"
      ],
      "metadata": {
        "id": "dJv3fFeNDjYe"
      }
    },
    {
      "cell_type": "code",
      "source": [
        "!pip install pyspark"
      ],
      "metadata": {
        "id": "PDMYK0eaDgMi"
      },
      "execution_count": null,
      "outputs": []
    },
    {
      "cell_type": "markdown",
      "source": [
        "# 2. **Import necessary libraries**:\n"
      ],
      "metadata": {
        "id": "hix6R8B3Bzfp"
      }
    },
    {
      "cell_type": "code",
      "source": [],
      "metadata": {
        "colab": {
          "base_uri": "https://localhost:8080/"
        },
        "id": "f07HausJB60L",
        "outputId": "b56157ce-0ac5-481c-becc-181fa546fd21"
      },
      "execution_count": 2,
      "outputs": [
        {
          "output_type": "stream",
          "name": "stdout",
          "text": [
            "Collecting pyspark\n",
            "  Downloading pyspark-3.5.1.tar.gz (317.0 MB)\n",
            "\u001b[2K     \u001b[90m━━━━━━━━━━━━━━━━━━━━━━━━━━━━━━━━━━━━━━━━\u001b[0m \u001b[32m317.0/317.0 MB\u001b[0m \u001b[31m3.5 MB/s\u001b[0m eta \u001b[36m0:00:00\u001b[0m\n",
            "\u001b[?25h  Preparing metadata (setup.py) ... \u001b[?25l\u001b[?25hdone\n",
            "Requirement already satisfied: py4j==0.10.9.7 in /usr/local/lib/python3.10/dist-packages (from pyspark) (0.10.9.7)\n",
            "Building wheels for collected packages: pyspark\n",
            "  Building wheel for pyspark (setup.py) ... \u001b[?25l\u001b[?25hdone\n",
            "  Created wheel for pyspark: filename=pyspark-3.5.1-py2.py3-none-any.whl size=317488491 sha256=0212995dfbbae0cb598a8230dff01a6dfc63db6af72a762ab07e9b6716d3d95c\n",
            "  Stored in directory: /root/.cache/pip/wheels/80/1d/60/2c256ed38dddce2fdd93be545214a63e02fbd8d74fb0b7f3a6\n",
            "Successfully built pyspark\n",
            "Installing collected packages: pyspark\n",
            "Successfully installed pyspark-3.5.1\n"
          ]
        }
      ]
    },
    {
      "cell_type": "code",
      "source": [
        "import pyspark\n",
        "from pyspark.sql import SparkSession\n",
        "from pyspark.sql.functions import col, to_timestamp, current_timestamp\n",
        "from pyspark.sql.types import StructType, StructField, StringType, IntegerType, LongType"
      ],
      "metadata": {
        "id": "jmq3BOhNB2PR"
      },
      "execution_count": 3,
      "outputs": []
    },
    {
      "cell_type": "markdown",
      "source": [
        "   Here, we import the required PySpark modules and functions. These include `SparkSession` for creating a Spark session, `col`, `to_timestamp`, and `current_timestamp` for column operations, and data types for defining schema."
      ],
      "metadata": {
        "id": "lxzUFZixCIgw"
      }
    },
    {
      "cell_type": "markdown",
      "source": [
        "# 3. **Initialize Spark session**:\n"
      ],
      "metadata": {
        "id": "0JYDcxpZCKyz"
      }
    },
    {
      "cell_type": "code",
      "source": [
        "spark = SparkSession.builder.appName('SparkByExamples.com').getOrCreate()"
      ],
      "metadata": {
        "id": "4puM0P8SCNxK"
      },
      "execution_count": 4,
      "outputs": []
    },
    {
      "cell_type": "markdown",
      "source": [
        "This line initializes a Spark session with the application name 'SparkByExamples.com'. If a Spark session already exists, it returns the existing one; otherwise, it creates a new one."
      ],
      "metadata": {
        "id": "CXqa08owCQqD"
      }
    },
    {
      "cell_type": "markdown",
      "source": [
        "# 4. **Define schema for the DataFrame**:"
      ],
      "metadata": {
        "id": "z2Q1nEVDCSHz"
      }
    },
    {
      "cell_type": "code",
      "source": [
        "schema = StructType([\n",
        "    StructField(\"seq\", StringType(), True)\n",
        "])"
      ],
      "metadata": {
        "id": "x5N58TluCUNd"
      },
      "execution_count": 8,
      "outputs": []
    },
    {
      "cell_type": "markdown",
      "source": [
        "   Here, we define the schema for our DataFrame. The schema specifies that the DataFrame will have a single column named \"seq\" of type `StringType`. The `True` parameter indicates that this column can contain null values."
      ],
      "metadata": {
        "id": "WWkANTUzCWzQ"
      }
    },
    {
      "cell_type": "markdown",
      "source": [
        "# 5. **Create a list of dates (not used correctly here)**:"
      ],
      "metadata": {
        "id": "npPJZfn2CY44"
      }
    },
    {
      "cell_type": "code",
      "source": [
        "dates = [('1',)]"
      ],
      "metadata": {
        "id": "dnwNwjCMCbRF"
      },
      "execution_count": 12,
      "outputs": []
    },
    {
      "cell_type": "markdown",
      "source": [
        "   This line creates a list with a single element '1'. However, this list is not used correctly in the subsequent steps.\n"
      ],
      "metadata": {
        "id": "zOO-Sa5qCc3L"
      }
    },
    {
      "cell_type": "markdown",
      "source": [
        "# 6. **Create a DataFrame with the given schema and data**:\n"
      ],
      "metadata": {
        "id": "9dPRaZEfCeZu"
      }
    },
    {
      "cell_type": "code",
      "source": [
        "df = spark.createDataFrame(dates, schema=schema)"
      ],
      "metadata": {
        "id": "piQmH5DLChxp"
      },
      "execution_count": 13,
      "outputs": []
    },
    {
      "cell_type": "markdown",
      "source": [
        "This line creates a DataFrame from the list '1' (which is treated as a list of characters). The `list('1')` expression converts the string '1' into a list containing a single character '1'. This is not the correct usage if you intend to use the `dates` list created earlier."
      ],
      "metadata": {
        "id": "mAdpwrCEChcS"
      }
    },
    {
      "cell_type": "markdown",
      "source": [
        "# 7. **Show the DataFrame**:\n"
      ],
      "metadata": {
        "id": "81JerKdrCkyO"
      }
    },
    {
      "cell_type": "code",
      "source": [
        "df.show()"
      ],
      "metadata": {
        "colab": {
          "base_uri": "https://localhost:8080/"
        },
        "id": "rkvK4SXfCmkD",
        "outputId": "fb03abe0-3efc-4a7a-ae99-2b9db72fd853"
      },
      "execution_count": 14,
      "outputs": [
        {
          "output_type": "stream",
          "name": "stdout",
          "text": [
            "+---+\n",
            "|seq|\n",
            "+---+\n",
            "|  1|\n",
            "+---+\n",
            "\n"
          ]
        }
      ]
    },
    {
      "cell_type": "markdown",
      "source": [
        "   This line displays the contents of the DataFrame. Since the DataFrame is created from a list of characters, it will display a single row with the value '1' in the \"seq\" column.\n"
      ],
      "metadata": {
        "id": "8LalQBYzCpuc"
      }
    }
  ]
}