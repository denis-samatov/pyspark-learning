{
  "nbformat": 4,
  "nbformat_minor": 0,
  "metadata": {
    "colab": {
      "provenance": []
    },
    "kernelspec": {
      "name": "python3",
      "display_name": "Python 3"
    },
    "language_info": {
      "name": "python"
    }
  },
  "cells": [
    {
      "cell_type": "markdown",
      "source": [
        "### 1. **Initializing Spark Session**:\n"
      ],
      "metadata": {
        "id": "qA0FBo5A3mfG"
      }
    },
    {
      "cell_type": "code",
      "source": [
        "!pip install pyspark"
      ],
      "metadata": {
        "colab": {
          "base_uri": "https://localhost:8080/"
        },
        "id": "CUVNLZ9p4I7j",
        "outputId": "ad35dd5d-4540-4b50-fecc-467246f96375"
      },
      "execution_count": 1,
      "outputs": [
        {
          "output_type": "stream",
          "name": "stdout",
          "text": [
            "Collecting pyspark\n",
            "  Downloading pyspark-3.5.1.tar.gz (317.0 MB)\n",
            "\u001b[2K     \u001b[90m━━━━━━━━━━━━━━━━━━━━━━━━━━━━━━━━━━━━━━━━\u001b[0m \u001b[32m317.0/317.0 MB\u001b[0m \u001b[31m3.0 MB/s\u001b[0m eta \u001b[36m0:00:00\u001b[0m\n",
            "\u001b[?25h  Preparing metadata (setup.py) ... \u001b[?25l\u001b[?25hdone\n",
            "Requirement already satisfied: py4j==0.10.9.7 in /usr/local/lib/python3.10/dist-packages (from pyspark) (0.10.9.7)\n",
            "Building wheels for collected packages: pyspark\n",
            "  Building wheel for pyspark (setup.py) ... \u001b[?25l\u001b[?25hdone\n",
            "  Created wheel for pyspark: filename=pyspark-3.5.1-py2.py3-none-any.whl size=317488491 sha256=6369fe0000ef1539026b8e2326e396fe1d029913b8c1011baf3736589a21de58\n",
            "  Stored in directory: /root/.cache/pip/wheels/80/1d/60/2c256ed38dddce2fdd93be545214a63e02fbd8d74fb0b7f3a6\n",
            "Successfully built pyspark\n",
            "Installing collected packages: pyspark\n",
            "Successfully installed pyspark-3.5.1\n"
          ]
        }
      ]
    },
    {
      "cell_type": "code",
      "source": [
        "from pyspark.sql import SparkSession\n",
        "from pyspark.sql.functions import countDistinct\n",
        "\n",
        "spark = SparkSession.builder \\\n",
        "        .appName('SparkByExamples.com') \\\n",
        "        .getOrCreate()"
      ],
      "metadata": {
        "id": "fsjcLqpb3odl"
      },
      "execution_count": 2,
      "outputs": []
    },
    {
      "cell_type": "markdown",
      "source": [
        "- Imports necessary PySpark libraries.\n",
        "- Initializes a Spark session with the application name 'SparkByExamples.com'.\n"
      ],
      "metadata": {
        "id": "SnQxR53y3p6O"
      }
    },
    {
      "cell_type": "markdown",
      "source": [
        "### 2. **Defining Sample Data and Schema**:\n"
      ],
      "metadata": {
        "id": "9kmqSOM83rGn"
      }
    },
    {
      "cell_type": "code",
      "source": [
        "data = [(\"James\", \"Sales\", 3000),\n",
        "        (\"Michael\", \"Sales\", 4600),\n",
        "        (\"Robert\", \"Sales\", 4100),\n",
        "        (\"Maria\", \"Finance\", 3000),\n",
        "        (\"James\", \"Sales\", 3000),\n",
        "        (\"Scott\", \"Finance\", 3300),\n",
        "        (\"Jen\", \"Finance\", 3900),\n",
        "        (\"Jeff\", \"Marketing\", 3000),\n",
        "        (\"Kumar\", \"Marketing\", 2000),\n",
        "        (\"Saif\", \"Sales\", 4100)]\n",
        "\n",
        "columns = [\"Name\", \"Dept\", \"Salary\"]"
      ],
      "metadata": {
        "id": "ht5QZBZE3trt"
      },
      "execution_count": 3,
      "outputs": []
    },
    {
      "cell_type": "markdown",
      "source": [
        "- Defines sample data as a list of tuples, where each tuple represents a row in the DataFrame.\n",
        "- Defines a schema with three fields: `Name`, `Dept`, and `Salary`.\n"
      ],
      "metadata": {
        "id": "XMO6vhD33vKy"
      }
    },
    {
      "cell_type": "markdown",
      "source": [
        "### 3. **Creating DataFrame**:\n"
      ],
      "metadata": {
        "id": "N2lxBu5u3xG6"
      }
    },
    {
      "cell_type": "code",
      "source": [
        "df = spark.createDataFrame(data=data, schema=columns)"
      ],
      "metadata": {
        "id": "QiM-kcm53wiL"
      },
      "execution_count": 4,
      "outputs": []
    },
    {
      "cell_type": "markdown",
      "source": [
        "- Creates a DataFrame from the sample data and schema.\n"
      ],
      "metadata": {
        "id": "OPFvZDeJ30A5"
      }
    },
    {
      "cell_type": "markdown",
      "source": [
        "### 4. **Showing Distinct Rows and Counting Distinct Rows**:\n"
      ],
      "metadata": {
        "id": "gwRSiGw231jW"
      }
    },
    {
      "cell_type": "code",
      "source": [
        "df.distinct().show()\n",
        "print(\"Distinct Count: \" + str(df.distinct().count()))"
      ],
      "metadata": {
        "colab": {
          "base_uri": "https://localhost:8080/"
        },
        "id": "pkF_kAQC33D2",
        "outputId": "a005b0ff-1e52-41e4-bb3c-7b112ca2f055"
      },
      "execution_count": 5,
      "outputs": [
        {
          "output_type": "stream",
          "name": "stdout",
          "text": [
            "+-------+---------+------+\n",
            "|   Name|     Dept|Salary|\n",
            "+-------+---------+------+\n",
            "|Michael|    Sales|  4600|\n",
            "|  James|    Sales|  3000|\n",
            "| Robert|    Sales|  4100|\n",
            "|  Maria|  Finance|  3000|\n",
            "|    Jen|  Finance|  3900|\n",
            "|  Scott|  Finance|  3300|\n",
            "|  Kumar|Marketing|  2000|\n",
            "|   Jeff|Marketing|  3000|\n",
            "|   Saif|    Sales|  4100|\n",
            "+-------+---------+------+\n",
            "\n",
            "Distinct Count: 9\n"
          ]
        }
      ]
    },
    {
      "cell_type": "markdown",
      "source": [
        "- Uses `distinct()` to remove duplicate rows and display the distinct rows.\n",
        "- Prints the count of distinct rows.\n"
      ],
      "metadata": {
        "id": "1J6dkzhh34eh"
      }
    },
    {
      "cell_type": "markdown",
      "source": [
        "### 5. **Counting Distinct Combinations of 'Dept' and 'Salary'**:\n"
      ],
      "metadata": {
        "id": "tN5DvwG-352J"
      }
    },
    {
      "cell_type": "code",
      "source": [
        "df2 = df.select(countDistinct(\"Dept\", \"Salary\"))\n",
        "df2.show()\n",
        "print(\"Distinct Count of Department & Salary: \" + str(df2.collect()[0][0]))"
      ],
      "metadata": {
        "colab": {
          "base_uri": "https://localhost:8080/"
        },
        "id": "hsfisQ0M37OH",
        "outputId": "81f0b7b9-ea0b-460c-913a-58d3f15d30bf"
      },
      "execution_count": 6,
      "outputs": [
        {
          "output_type": "stream",
          "name": "stdout",
          "text": [
            "+----------------------------+\n",
            "|count(DISTINCT Dept, Salary)|\n",
            "+----------------------------+\n",
            "|                           8|\n",
            "+----------------------------+\n",
            "\n",
            "Distinct Count of Department & Salary: 8\n"
          ]
        }
      ]
    },
    {
      "cell_type": "markdown",
      "source": [
        "- Uses `countDistinct()` to count the number of distinct combinations of `Dept` and `Salary`.\n",
        "- Displays the result and prints the count.\n"
      ],
      "metadata": {
        "id": "BvzRJCOE39HQ"
      }
    },
    {
      "cell_type": "markdown",
      "source": [
        "### 6. **Using SQL to Count Distinct Rows**:\n"
      ],
      "metadata": {
        "id": "rLo3VOwA3-V9"
      }
    },
    {
      "cell_type": "code",
      "source": [
        "df.createOrReplaceTempView(\"PERSON\")\n",
        "spark.sql(\"SELECT COUNT(DISTINCT *) FROM PERSON\").show()"
      ],
      "metadata": {
        "colab": {
          "base_uri": "https://localhost:8080/"
        },
        "id": "AQrV0IGb3_23",
        "outputId": "6fc092f7-efba-490d-a28e-016e0e2b687d"
      },
      "execution_count": 7,
      "outputs": [
        {
          "output_type": "stream",
          "name": "stdout",
          "text": [
            "+----------------------------------+\n",
            "|count(DISTINCT Name, Dept, Salary)|\n",
            "+----------------------------------+\n",
            "|                                 9|\n",
            "+----------------------------------+\n",
            "\n"
          ]
        }
      ]
    },
    {
      "cell_type": "markdown",
      "source": [
        "- Registers the DataFrame as a temporary SQL view named `PERSON`.\n",
        "- Uses SQL to count the number of distinct rows in the `PERSON` view."
      ],
      "metadata": {
        "id": "XpesmBCN4BlJ"
      }
    },
    {
      "cell_type": "markdown",
      "source": [
        "### Key Points\n",
        "\n",
        "- **Creating DataFrame**: Shows how to create a DataFrame with a given schema and data.\n",
        "- **Counting Distinct Rows**: Demonstrates how to remove duplicate rows and count the number of distinct rows in a DataFrame.\n",
        "- **Using countDistinct**: Uses the `countDistinct` function to count distinct combinations of specified columns.\n",
        "- **SQL Queries**: Registers the DataFrame as a temporary view and uses SQL to perform operations on the DataFrame.\n"
      ],
      "metadata": {
        "id": "humthUOn4Fum"
      }
    }
  ]
}