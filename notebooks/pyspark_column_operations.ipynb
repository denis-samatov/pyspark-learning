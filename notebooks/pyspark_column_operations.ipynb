{
  "nbformat": 4,
  "nbformat_minor": 0,
  "metadata": {
    "colab": {
      "provenance": []
    },
    "kernelspec": {
      "name": "python3",
      "display_name": "Python 3"
    },
    "language_info": {
      "name": "python"
    }
  },
  "cells": [
    {
      "cell_type": "code",
      "source": [
        "!pip install pyspark"
      ],
      "metadata": {
        "colab": {
          "base_uri": "https://localhost:8080/"
        },
        "id": "y3WtYcIxt2gv",
        "outputId": "15e5b4e7-e1e0-4c7c-b0cd-d67436a3891b"
      },
      "execution_count": 1,
      "outputs": [
        {
          "output_type": "stream",
          "name": "stdout",
          "text": [
            "Collecting pyspark\n",
            "  Downloading pyspark-3.5.1.tar.gz (317.0 MB)\n",
            "\u001b[2K     \u001b[90m━━━━━━━━━━━━━━━━━━━━━━━━━━━━━━━━━━━━━━━━\u001b[0m \u001b[32m317.0/317.0 MB\u001b[0m \u001b[31m3.3 MB/s\u001b[0m eta \u001b[36m0:00:00\u001b[0m\n",
            "\u001b[?25h  Preparing metadata (setup.py) ... \u001b[?25l\u001b[?25hdone\n",
            "Requirement already satisfied: py4j==0.10.9.7 in /usr/local/lib/python3.10/dist-packages (from pyspark) (0.10.9.7)\n",
            "Building wheels for collected packages: pyspark\n",
            "  Building wheel for pyspark (setup.py) ... \u001b[?25l\u001b[?25hdone\n",
            "  Created wheel for pyspark: filename=pyspark-3.5.1-py2.py3-none-any.whl size=317488491 sha256=9c20110022f3255f01e9b393d30ca000735a1429d6c2df8c7a9bdbcaa34ca122\n",
            "  Stored in directory: /root/.cache/pip/wheels/80/1d/60/2c256ed38dddce2fdd93be545214a63e02fbd8d74fb0b7f3a6\n",
            "Successfully built pyspark\n",
            "Installing collected packages: pyspark\n",
            "Successfully installed pyspark-3.5.1\n"
          ]
        }
      ]
    },
    {
      "cell_type": "code",
      "source": [
        "from pyspark.sql import SparkSession, Row\n",
        "from pyspark.sql.functions import col"
      ],
      "metadata": {
        "id": "gzlH6V0btzrI"
      },
      "execution_count": 2,
      "outputs": []
    },
    {
      "cell_type": "code",
      "source": [
        "# Initialize Spark session\n",
        "spark = SparkSession.builder.appName('SparkByExamples.com').getOrCreate()"
      ],
      "metadata": {
        "id": "NsOqGQwct1jJ"
      },
      "execution_count": 3,
      "outputs": []
    },
    {
      "cell_type": "code",
      "source": [
        "# Sample data with column names containing dots\n",
        "data = [(\"James\", 23), (\"Ann\", 40)]\n",
        "df = spark.createDataFrame(data).toDF(\"name.fname\", \"gender\")"
      ],
      "metadata": {
        "id": "Uw8yrtoZt5ob"
      },
      "execution_count": 4,
      "outputs": []
    },
    {
      "cell_type": "code",
      "source": [
        "# Print the schema and show the DataFrame\n",
        "df.printSchema()\n",
        "df.show()"
      ],
      "metadata": {
        "colab": {
          "base_uri": "https://localhost:8080/"
        },
        "id": "rQeDRVdFuD-A",
        "outputId": "1a3b081f-c6ff-4fde-b82a-3696e8d795b0"
      },
      "execution_count": 5,
      "outputs": [
        {
          "output_type": "stream",
          "name": "stdout",
          "text": [
            "root\n",
            " |-- name.fname: string (nullable = true)\n",
            " |-- gender: long (nullable = true)\n",
            "\n",
            "+----------+------+\n",
            "|name.fname|gender|\n",
            "+----------+------+\n",
            "|     James|    23|\n",
            "|       Ann|    40|\n",
            "+----------+------+\n",
            "\n"
          ]
        }
      ]
    },
    {
      "cell_type": "code",
      "source": [
        "# Accessing columns with dots in their names using backticks\n",
        "df.select(col(\"`name.fname`\")).show()  # Select column 'name.fname'\n",
        "df.select(df[\"`name.fname`\"]).show()   # Alternative way to select column 'name.fname'"
      ],
      "metadata": {
        "colab": {
          "base_uri": "https://localhost:8080/"
        },
        "id": "xuyssBFouFWA",
        "outputId": "5f597867-9f9a-47cf-fed1-daa495287cdd"
      },
      "execution_count": 6,
      "outputs": [
        {
          "output_type": "stream",
          "name": "stdout",
          "text": [
            "+----------+\n",
            "|name.fname|\n",
            "+----------+\n",
            "|     James|\n",
            "|       Ann|\n",
            "+----------+\n",
            "\n",
            "+----------+\n",
            "|name.fname|\n",
            "+----------+\n",
            "|     James|\n",
            "|       Ann|\n",
            "+----------+\n",
            "\n"
          ]
        }
      ]
    },
    {
      "cell_type": "code",
      "source": [
        "# Add a new column 'new_col' by extracting a substring from 'name.fname'\n",
        "df.withColumn(\"new_col\", col(\"`name.fname`\").substr(1, 2)).show()"
      ],
      "metadata": {
        "colab": {
          "base_uri": "https://localhost:8080/"
        },
        "id": "sfmJu2RRuGgA",
        "outputId": "659f924a-d263-4809-8041-585c128408a3"
      },
      "execution_count": 7,
      "outputs": [
        {
          "output_type": "stream",
          "name": "stdout",
          "text": [
            "+----------+------+-------+\n",
            "|name.fname|gender|new_col|\n",
            "+----------+------+-------+\n",
            "|     James|    23|     Ja|\n",
            "|       Ann|    40|     An|\n",
            "+----------+------+-------+\n",
            "\n"
          ]
        }
      ]
    },
    {
      "cell_type": "code",
      "source": [
        "# Filter rows where 'name.fname' starts with 'J'\n",
        "df.filter(col(\"`name.fname`\").startswith(\"J\")).show()"
      ],
      "metadata": {
        "colab": {
          "base_uri": "https://localhost:8080/"
        },
        "id": "ihCoAa6DuH81",
        "outputId": "955ebf72-a967-4ddf-cc2e-5a4da86208f1"
      },
      "execution_count": 8,
      "outputs": [
        {
          "output_type": "stream",
          "name": "stdout",
          "text": [
            "+----------+------+\n",
            "|name.fname|gender|\n",
            "+----------+------+\n",
            "|     James|    23|\n",
            "+----------+------+\n",
            "\n"
          ]
        }
      ]
    },
    {
      "cell_type": "code",
      "source": [
        "# Renaming columns to remove dots\n",
        "new_cols = (column.replace('.', '_') for column in df.columns)  # Replace '.' with '_'\n",
        "df2 = df.toDF(*new_cols)  # Apply new column names to DataFrame\n",
        "df2.show()"
      ],
      "metadata": {
        "colab": {
          "base_uri": "https://localhost:8080/"
        },
        "id": "jvto1IHduJJN",
        "outputId": "65b792e2-a3ac-4136-b492-d05f21ce0eb3"
      },
      "execution_count": 9,
      "outputs": [
        {
          "output_type": "stream",
          "name": "stdout",
          "text": [
            "+----------+------+\n",
            "|name_fname|gender|\n",
            "+----------+------+\n",
            "|     James|    23|\n",
            "|       Ann|    40|\n",
            "+----------+------+\n",
            "\n"
          ]
        }
      ]
    },
    {
      "cell_type": "code",
      "source": [
        "# Using DataFrame object to access columns\n",
        "df.select(df.gender).show()  # Select 'gender' column\n",
        "df.select(df[\"gender\"]).show()  # Alternative way to select 'gender' column"
      ],
      "metadata": {
        "colab": {
          "base_uri": "https://localhost:8080/"
        },
        "id": "oyPsaJEguKQd",
        "outputId": "7a00f4e4-e9d3-40f0-ef64-81f342af4fd5"
      },
      "execution_count": 10,
      "outputs": [
        {
          "output_type": "stream",
          "name": "stdout",
          "text": [
            "+------+\n",
            "|gender|\n",
            "+------+\n",
            "|    23|\n",
            "|    40|\n",
            "+------+\n",
            "\n",
            "+------+\n",
            "|gender|\n",
            "+------+\n",
            "|    23|\n",
            "|    40|\n",
            "+------+\n",
            "\n"
          ]
        }
      ]
    },
    {
      "cell_type": "code",
      "source": [
        "# Accessing column names with dots using backticks\n",
        "df.select(df[\"`name.fname`\"]).show()  # Select 'name.fname' column"
      ],
      "metadata": {
        "colab": {
          "base_uri": "https://localhost:8080/"
        },
        "id": "6vag6mKUuLEa",
        "outputId": "fbe874b5-d5dc-44c4-ccfb-6f609fbe782f"
      },
      "execution_count": 11,
      "outputs": [
        {
          "output_type": "stream",
          "name": "stdout",
          "text": [
            "+----------+\n",
            "|name.fname|\n",
            "+----------+\n",
            "|     James|\n",
            "|       Ann|\n",
            "+----------+\n",
            "\n"
          ]
        }
      ]
    },
    {
      "cell_type": "code",
      "source": [
        "# Using SQL col() function to access columns\n",
        "df.select(col(\"gender\")).show()  # Select 'gender' column using col()\n",
        "df.select(col(\"`name.fname`\")).show()  # Select 'name.fname' column using col() with backticks"
      ],
      "metadata": {
        "colab": {
          "base_uri": "https://localhost:8080/"
        },
        "id": "5ceRD8aQuMWV",
        "outputId": "b9eb4587-7e57-488f-cdd9-f263aadaabc6"
      },
      "execution_count": 12,
      "outputs": [
        {
          "output_type": "stream",
          "name": "stdout",
          "text": [
            "+------+\n",
            "|gender|\n",
            "+------+\n",
            "|    23|\n",
            "|    40|\n",
            "+------+\n",
            "\n",
            "+----------+\n",
            "|name.fname|\n",
            "+----------+\n",
            "|     James|\n",
            "|       Ann|\n",
            "+----------+\n",
            "\n"
          ]
        }
      ]
    },
    {
      "cell_type": "code",
      "source": [
        "# Sample data with struct fields\n",
        "data = [\n",
        "    Row(name=\"James\", prop=Row(hair=\"black\", eye=\"blue\")),\n",
        "    Row(name=\"Ann\", prop=Row(hair=\"grey\", eye=\"black\"))\n",
        "]\n",
        "df = spark.createDataFrame(data)"
      ],
      "metadata": {
        "id": "169jm_qwuNv5"
      },
      "execution_count": 19,
      "outputs": []
    },
    {
      "cell_type": "code",
      "source": [
        "# Print the schema of the DataFrame with struct fields\n",
        "df.printSchema()\n",
        "df.show()"
      ],
      "metadata": {
        "colab": {
          "base_uri": "https://localhost:8080/"
        },
        "id": "NzVvyNlIuPf5",
        "outputId": "1037d169-ce2e-4016-f60a-eb742d2b9405"
      },
      "execution_count": 20,
      "outputs": [
        {
          "output_type": "stream",
          "name": "stdout",
          "text": [
            "root\n",
            " |-- name: string (nullable = true)\n",
            " |-- prop: struct (nullable = true)\n",
            " |    |-- hair: string (nullable = true)\n",
            " |    |-- eye: string (nullable = true)\n",
            "\n",
            "+-----+-------------+\n",
            "| name|         prop|\n",
            "+-----+-------------+\n",
            "|James|{black, blue}|\n",
            "|  Ann|{grey, black}|\n",
            "+-----+-------------+\n",
            "\n"
          ]
        }
      ]
    },
    {
      "cell_type": "code",
      "source": [
        "# Accessing nested fields in struct columns\n",
        "df.select(df.prop.hair).show()  # Select 'hair' field from 'prop' struct\n",
        "df.select(df[\"prop.hair\"]).show()  # Alternative way to select 'hair' field from 'prop' struct\n",
        "df.select(col(\"prop.hair\")).show()  # Using col() to select 'hair' field from 'prop' struct\n",
        "df.select(col(\"prop.*\")).show()  # Select all fields from 'prop' struct"
      ],
      "metadata": {
        "colab": {
          "base_uri": "https://localhost:8080/"
        },
        "id": "TmCkWFWWuRLZ",
        "outputId": "8cd90bea-8867-414a-c71b-1a0c8408631d"
      },
      "execution_count": 15,
      "outputs": [
        {
          "output_type": "stream",
          "name": "stdout",
          "text": [
            "+---------+\n",
            "|prop.hair|\n",
            "+---------+\n",
            "|    black|\n",
            "|     grey|\n",
            "+---------+\n",
            "\n",
            "+-----+\n",
            "| hair|\n",
            "+-----+\n",
            "|black|\n",
            "| grey|\n",
            "+-----+\n",
            "\n",
            "+-----+\n",
            "| hair|\n",
            "+-----+\n",
            "|black|\n",
            "| grey|\n",
            "+-----+\n",
            "\n",
            "+-----+-----+\n",
            "| hair|  eye|\n",
            "+-----+-----+\n",
            "|black| blue|\n",
            "| grey|black|\n",
            "+-----+-----+\n",
            "\n"
          ]
        }
      ]
    },
    {
      "cell_type": "code",
      "source": [
        "# Sample data for column operations\n",
        "data = [(100, 2, 1), (200, 3, 4), (300, 4, 4)]\n",
        "df = spark.createDataFrame(data).toDF(\"col1\", \"col2\", \"col3\")"
      ],
      "metadata": {
        "id": "f5il0H_nuSIx"
      },
      "execution_count": 16,
      "outputs": []
    },
    {
      "cell_type": "code",
      "source": [
        "# Performing arithmetic operations on columns\n",
        "df.select(df.col1 + df.col2).show()  # Add 'col1' and 'col2'\n",
        "df.select(df.col1 - df.col2).show()  # Subtract 'col2' from 'col1'\n",
        "df.select(df.col1 * df.col2).show()  # Multiply 'col1' and 'col2'\n",
        "df.select(df.col1 / df.col2).show()  # Divide 'col1' by 'col2'\n",
        "df.select(df.col1 % df.col2).show()  # Modulus of 'col1' by 'col2'"
      ],
      "metadata": {
        "colab": {
          "base_uri": "https://localhost:8080/"
        },
        "id": "FA25Te7KuUyC",
        "outputId": "c20c826a-e12c-4524-8c6b-c1abe275c173"
      },
      "execution_count": 17,
      "outputs": [
        {
          "output_type": "stream",
          "name": "stdout",
          "text": [
            "+-------------+\n",
            "|(col1 + col2)|\n",
            "+-------------+\n",
            "|          102|\n",
            "|          203|\n",
            "|          304|\n",
            "+-------------+\n",
            "\n",
            "+-------------+\n",
            "|(col1 - col2)|\n",
            "+-------------+\n",
            "|           98|\n",
            "|          197|\n",
            "|          296|\n",
            "+-------------+\n",
            "\n",
            "+-------------+\n",
            "|(col1 * col2)|\n",
            "+-------------+\n",
            "|          200|\n",
            "|          600|\n",
            "|         1200|\n",
            "+-------------+\n",
            "\n",
            "+-----------------+\n",
            "|    (col1 / col2)|\n",
            "+-----------------+\n",
            "|             50.0|\n",
            "|66.66666666666667|\n",
            "|             75.0|\n",
            "+-----------------+\n",
            "\n",
            "+-------------+\n",
            "|(col1 % col2)|\n",
            "+-------------+\n",
            "|            0|\n",
            "|            2|\n",
            "|            0|\n",
            "+-------------+\n",
            "\n"
          ]
        }
      ]
    },
    {
      "cell_type": "code",
      "source": [
        "# Performing comparison operations on columns\n",
        "df.select(df.col2 > df.col3).show()  # Check if 'col2' is greater than 'col3'\n",
        "df.select(df.col2 < df.col3).show()  # Check if 'col2' is less than 'col3'\n",
        "df.select(df.col2 == df.col3).show()  # Check if 'col2' is equal to 'col3'"
      ],
      "metadata": {
        "colab": {
          "base_uri": "https://localhost:8080/"
        },
        "id": "M6rqSOFGuWDn",
        "outputId": "22162435-34ca-415c-f515-be5824e501f9"
      },
      "execution_count": 18,
      "outputs": [
        {
          "output_type": "stream",
          "name": "stdout",
          "text": [
            "+-------------+\n",
            "|(col2 > col3)|\n",
            "+-------------+\n",
            "|         true|\n",
            "|        false|\n",
            "|        false|\n",
            "+-------------+\n",
            "\n",
            "+-------------+\n",
            "|(col2 < col3)|\n",
            "+-------------+\n",
            "|        false|\n",
            "|         true|\n",
            "|        false|\n",
            "+-------------+\n",
            "\n",
            "+-------------+\n",
            "|(col2 = col3)|\n",
            "+-------------+\n",
            "|        false|\n",
            "|        false|\n",
            "|         true|\n",
            "+-------------+\n",
            "\n"
          ]
        }
      ]
    },
    {
      "cell_type": "markdown",
      "source": [
        "### Explanation of the Comments\n",
        "\n",
        "1. **Initialization and Data Preparation**:\n",
        "   - **SparkSession Initialization**: The script starts by initializing a Spark session.\n",
        "   - **Sample Data and Schema**: Defines sample data with columns, some of which contain dots.\n",
        "\n",
        "2. **DataFrame Operations**:\n",
        "   - **Printing Schema and DataFrame**: Prints the schema and displays the DataFrame.\n",
        "   - **Column Access with Dots**: Demonstrates how to access columns with dots in their names using backticks.\n",
        "   - **Adding a New Column**: Adds a new column by extracting a substring from another column.\n",
        "   - **Filtering Rows**: Filters rows based on conditions applied to columns with dots in their names.\n",
        "   - **Renaming Columns**: Renames columns to remove dots and make them easier to work with.\n",
        "   - **Using DataFrame Object and col() Function**: Shows various ways to access columns using the DataFrame object and the `col` function.\n",
        "\n",
        "3. **Nested Struct Fields**:\n",
        "   - **Sample Data with Struct Fields**: Defines sample data with nested struct fields.\n",
        "   - **Accessing Nested Fields**: Demonstrates how to access nested fields within struct columns.\n",
        "\n",
        "4. **Column Operations**:\n",
        "   - **Sample Data for Column Operations**: Defines sample data for demonstrating arithmetic and comparison operations.\n",
        "   - **Arithmetic Operations**: Performs addition, subtraction, multiplication, division, and modulus operations on columns.\n",
        "   - **Comparison Operations**: Performs greater than, less than, and equality comparisons on columns."
      ],
      "metadata": {
        "id": "UT1NwSb0uYSr"
      }
    }
  ]
}