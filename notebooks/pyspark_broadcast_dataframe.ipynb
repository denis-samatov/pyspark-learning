{
  "nbformat": 4,
  "nbformat_minor": 0,
  "metadata": {
    "colab": {
      "provenance": [],
      "collapsed_sections": [
        "TJKjcexez9Fq",
        "0NQDKcj6_Pya",
        "tIRX7y_x_VWJ",
        "1uADyYsu_aPR",
        "z-JwNa5J_ewb",
        "EB6DmGFi_lF-",
        "uEVjNfAb_pz_"
      ]
    },
    "kernelspec": {
      "name": "python3",
      "display_name": "Python 3"
    },
    "language_info": {
      "name": "python"
    }
  },
  "cells": [
    {
      "cell_type": "markdown",
      "source": [
        "# 0. **Install PySpark**"
      ],
      "metadata": {
        "id": "TJKjcexez9Fq"
      }
    },
    {
      "cell_type": "code",
      "source": [
        "!pip install pyspark"
      ],
      "metadata": {
        "colab": {
          "base_uri": "https://localhost:8080/"
        },
        "id": "fc51oRbw0MkQ",
        "outputId": "678e2268-e6c9-4ea9-f39a-2269b7ad454f"
      },
      "execution_count": 3,
      "outputs": [
        {
          "output_type": "stream",
          "name": "stdout",
          "text": [
            "Collecting pyspark\n",
            "  Downloading pyspark-3.5.1.tar.gz (317.0 MB)\n",
            "\u001b[2K     \u001b[90m━━━━━━━━━━━━━━━━━━━━━━━━━━━━━━━━━━━━━━━━\u001b[0m \u001b[32m317.0/317.0 MB\u001b[0m \u001b[31m2.0 MB/s\u001b[0m eta \u001b[36m0:00:00\u001b[0m\n",
            "\u001b[?25h  Preparing metadata (setup.py) ... \u001b[?25l\u001b[?25hdone\n",
            "Requirement already satisfied: py4j==0.10.9.7 in /usr/local/lib/python3.10/dist-packages (from pyspark) (0.10.9.7)\n",
            "Building wheels for collected packages: pyspark\n",
            "  Building wheel for pyspark (setup.py) ... \u001b[?25l\u001b[?25hdone\n",
            "  Created wheel for pyspark: filename=pyspark-3.5.1-py2.py3-none-any.whl size=317488491 sha256=895c43e2994f1d0e0c9108f6817da10fd93f16de0e4eb397ec817c7cf16fd41e\n",
            "  Stored in directory: /root/.cache/pip/wheels/80/1d/60/2c256ed38dddce2fdd93be545214a63e02fbd8d74fb0b7f3a6\n",
            "Successfully built pyspark\n",
            "Installing collected packages: pyspark\n",
            "Successfully installed pyspark-3.5.1\n"
          ]
        }
      ]
    },
    {
      "cell_type": "markdown",
      "source": [
        "# 1. **Importing Libraries and Initializing Spark Session**:\n"
      ],
      "metadata": {
        "id": "0NQDKcj6_Pya"
      }
    },
    {
      "cell_type": "code",
      "source": [
        "import pyspark\n",
        "from pyspark.sql import SparkSession\n",
        "\n",
        "spark = SparkSession.builder.appName('SparkByExamples.com').getOrCreate()"
      ],
      "metadata": {
        "id": "0TY_H8rm_Rju"
      },
      "execution_count": 4,
      "outputs": []
    },
    {
      "cell_type": "markdown",
      "source": [
        "- Imports necessary PySpark libraries.\n",
        "- Initializes a Spark session with the application name 'SparkByExamples.com'.\n"
      ],
      "metadata": {
        "id": "ZeRFTQTr_TqW"
      }
    },
    {
      "cell_type": "markdown",
      "source": [
        "# 2. **Broadcast Variable Definition**:\n"
      ],
      "metadata": {
        "id": "tIRX7y_x_VWJ"
      }
    },
    {
      "cell_type": "code",
      "source": [
        "states = {\"NY\": \"New York\", \"CA\": \"California\", \"FL\": \"Florida\"}\n",
        "broadcastStates = spark.sparkContext.broadcast(states)"
      ],
      "metadata": {
        "id": "elb5Y9MZ_W7x"
      },
      "execution_count": 5,
      "outputs": []
    },
    {
      "cell_type": "markdown",
      "source": [
        "- Defines a dictionary `states` mapping state codes to state names.\n",
        "- Broadcasts the dictionary `states` to all nodes in the Spark cluster using `sparkContext.broadcast`.\n"
      ],
      "metadata": {
        "id": "CyZRqX_P_Yk5"
      }
    },
    {
      "cell_type": "markdown",
      "source": [
        "# 3. **Defining Sample Data and Schema**:\n"
      ],
      "metadata": {
        "id": "1uADyYsu_aPR"
      }
    },
    {
      "cell_type": "code",
      "source": [
        "data = [(\"James\", \"Smith\", \"USA\", \"CA\"),\n",
        "        (\"Michael\", \"Rose\", \"USA\", \"NY\"),\n",
        "        (\"Robert\", \"Williams\", \"USA\", \"CA\"),\n",
        "        (\"Maria\", \"Jones\", \"USA\", \"FL\")]\n",
        "\n",
        "columns = [\"firstname\", \"lastname\", \"country\", \"state\"]\n",
        "df = spark.createDataFrame(data=data, schema=columns)\n",
        "df.printSchema()\n",
        "df.show(truncate=False)"
      ],
      "metadata": {
        "colab": {
          "base_uri": "https://localhost:8080/"
        },
        "id": "1MZk50C3_b7u",
        "outputId": "d36b0a5f-82a0-4a37-c219-e9229774354d"
      },
      "execution_count": 6,
      "outputs": [
        {
          "output_type": "stream",
          "name": "stdout",
          "text": [
            "root\n",
            " |-- firstname: string (nullable = true)\n",
            " |-- lastname: string (nullable = true)\n",
            " |-- country: string (nullable = true)\n",
            " |-- state: string (nullable = true)\n",
            "\n",
            "+---------+--------+-------+-----+\n",
            "|firstname|lastname|country|state|\n",
            "+---------+--------+-------+-----+\n",
            "|James    |Smith   |USA    |CA   |\n",
            "|Michael  |Rose    |USA    |NY   |\n",
            "|Robert   |Williams|USA    |CA   |\n",
            "|Maria    |Jones   |USA    |FL   |\n",
            "+---------+--------+-------+-----+\n",
            "\n"
          ]
        }
      ]
    },
    {
      "cell_type": "markdown",
      "source": [
        "- Defines sample data as a list of tuples, where each tuple represents a row in the DataFrame.\n",
        "- Defines a schema with four fields: `firstname`, `lastname`, `country`, and `state`.\n",
        "- Creates a DataFrame from the sample data and schema.\n",
        "- Prints the schema of the DataFrame.\n",
        "- Displays the content of the DataFrame without truncating the output.\n"
      ],
      "metadata": {
        "id": "FaiWWeYA_dof"
      }
    },
    {
      "cell_type": "markdown",
      "source": [
        "# 4. **Defining a Function to Convert State Codes**:\n"
      ],
      "metadata": {
        "id": "z-JwNa5J_ewb"
      }
    },
    {
      "cell_type": "code",
      "source": [
        "def state_convert(code):\n",
        "    return broadcastStates.value[code]"
      ],
      "metadata": {
        "id": "vwyFuuRO_glY"
      },
      "execution_count": 7,
      "outputs": []
    },
    {
      "cell_type": "markdown",
      "source": [
        "- Defines a function `state_convert` that takes a state code as input and returns the full state name using the broadcast dictionary."
      ],
      "metadata": {
        "id": "kMzpfC8M_ibX"
      }
    },
    {
      "cell_type": "markdown",
      "source": [
        "# 5. **Transforming the DataFrame Using RDD**:\n"
      ],
      "metadata": {
        "id": "EB6DmGFi_lF-"
      }
    },
    {
      "cell_type": "code",
      "source": [
        "result = df.rdd.map(lambda x: (x[0], x[1], x[2], state_convert(x[3]))).toDF(columns)\n",
        "result.show(truncate=False)"
      ],
      "metadata": {
        "colab": {
          "base_uri": "https://localhost:8080/"
        },
        "id": "rYZnpuKB_m0a",
        "outputId": "8304b2aa-4b4c-448f-8f8b-40b2f1f1a5d2"
      },
      "execution_count": 8,
      "outputs": [
        {
          "output_type": "stream",
          "name": "stdout",
          "text": [
            "+---------+--------+-------+----------+\n",
            "|firstname|lastname|country|state     |\n",
            "+---------+--------+-------+----------+\n",
            "|James    |Smith   |USA    |California|\n",
            "|Michael  |Rose    |USA    |New York  |\n",
            "|Robert   |Williams|USA    |California|\n",
            "|Maria    |Jones   |USA    |Florida   |\n",
            "+---------+--------+-------+----------+\n",
            "\n"
          ]
        }
      ]
    },
    {
      "cell_type": "markdown",
      "source": [
        "- Converts the DataFrame to an RDD.\n",
        "- Uses the `map` function to apply the `state_convert` function to the `state` field of each row.\n",
        "- Converts the transformed RDD back to a DataFrame with the original column names.\n",
        "- Displays the transformed DataFrame without truncating the output.\n"
      ],
      "metadata": {
        "id": "BXChnIJF_oaT"
      }
    },
    {
      "cell_type": "markdown",
      "source": [
        "# 6. **Filtering DataFrame Using Broadcast Variable**:\n"
      ],
      "metadata": {
        "id": "uEVjNfAb_pz_"
      }
    },
    {
      "cell_type": "code",
      "source": [
        "# Convert dictionary keys to list\n",
        "state_keys = list(broadcastStates.value.keys())\n",
        "\n",
        "# Filter DataFrame using broadcast variable\n",
        "filteDf = df.where(df['state'].isin(state_keys))\n",
        "filteDf.show(truncate=False)"
      ],
      "metadata": {
        "colab": {
          "base_uri": "https://localhost:8080/"
        },
        "id": "APUmQtRn_rGT",
        "outputId": "5b63da03-c052-4cee-bd83-d1b8f1895925"
      },
      "execution_count": 13,
      "outputs": [
        {
          "output_type": "stream",
          "name": "stdout",
          "text": [
            "+---------+--------+-------+-----+\n",
            "|firstname|lastname|country|state|\n",
            "+---------+--------+-------+-----+\n",
            "|James    |Smith   |USA    |CA   |\n",
            "|Michael  |Rose    |USA    |NY   |\n",
            "|Robert   |Williams|USA    |CA   |\n",
            "|Maria    |Jones   |USA    |FL   |\n",
            "+---------+--------+-------+-----+\n",
            "\n"
          ]
        }
      ]
    },
    {
      "cell_type": "markdown",
      "source": [
        "- Uses the `where` method to filter the DataFrame rows based on the `state` field, checking if the state code is in the broadcast dictionary.\n",
        "- Displays the filtered DataFrame without truncating the output.\n"
      ],
      "metadata": {
        "id": "0hXK3x0G_s0T"
      }
    }
  ]
}