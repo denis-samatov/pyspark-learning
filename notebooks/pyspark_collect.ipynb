{
  "nbformat": 4,
  "nbformat_minor": 0,
  "metadata": {
    "colab": {
      "provenance": []
    },
    "kernelspec": {
      "name": "python3",
      "display_name": "Python 3"
    },
    "language_info": {
      "name": "python"
    }
  },
  "cells": [
    {
      "cell_type": "markdown",
      "source": [
        "# 0. **Install PySpark**:"
      ],
      "metadata": {
        "id": "TXUnvNbxbFHK"
      }
    },
    {
      "cell_type": "code",
      "source": [
        "!pip install pyspark"
      ],
      "metadata": {
        "colab": {
          "base_uri": "https://localhost:8080/"
        },
        "id": "hTf97qZabeZg",
        "outputId": "92753113-9b01-48f6-ce11-714d0e281b56"
      },
      "execution_count": 1,
      "outputs": [
        {
          "output_type": "stream",
          "name": "stdout",
          "text": [
            "Collecting pyspark\n",
            "  Downloading pyspark-3.5.1.tar.gz (317.0 MB)\n",
            "\u001b[2K     \u001b[90m━━━━━━━━━━━━━━━━━━━━━━━━━━━━━━━━━━━━━━━━\u001b[0m \u001b[32m317.0/317.0 MB\u001b[0m \u001b[31m3.7 MB/s\u001b[0m eta \u001b[36m0:00:00\u001b[0m\n",
            "\u001b[?25h  Preparing metadata (setup.py) ... \u001b[?25l\u001b[?25hdone\n",
            "Requirement already satisfied: py4j==0.10.9.7 in /usr/local/lib/python3.10/dist-packages (from pyspark) (0.10.9.7)\n",
            "Building wheels for collected packages: pyspark\n",
            "  Building wheel for pyspark (setup.py) ... \u001b[?25l\u001b[?25hdone\n",
            "  Created wheel for pyspark: filename=pyspark-3.5.1-py2.py3-none-any.whl size=317488491 sha256=3c6f0691f5e6d071ad35fed391090247e1d0f1e8d29b06eaa9334f99e480bec1\n",
            "  Stored in directory: /root/.cache/pip/wheels/80/1d/60/2c256ed38dddce2fdd93be545214a63e02fbd8d74fb0b7f3a6\n",
            "Successfully built pyspark\n",
            "Installing collected packages: pyspark\n",
            "Successfully installed pyspark-3.5.1\n"
          ]
        }
      ]
    },
    {
      "cell_type": "markdown",
      "source": [
        "# 1. **Importing Libraries and Initializing Spark Session**:"
      ],
      "metadata": {
        "id": "EidsfawjOcQ9"
      }
    },
    {
      "cell_type": "code",
      "source": [
        "import pyspark\n",
        "from pyspark.sql import SparkSession\n",
        "\n",
        "spark = SparkSession.builder.appName('SparkByExamples.com').getOrCreate()"
      ],
      "metadata": {
        "id": "JrWVri5tOe62"
      },
      "execution_count": 2,
      "outputs": []
    },
    {
      "cell_type": "markdown",
      "source": [
        "   - Imports necessary PySpark libraries.\n",
        "   - Initializes a Spark session with the application name 'SparkByExamples.com'.\n"
      ],
      "metadata": {
        "id": "weQyDJa9OgcX"
      }
    },
    {
      "cell_type": "markdown",
      "source": [
        "# 2. **Defining Sample Data and Schema**:\n"
      ],
      "metadata": {
        "id": "7uNsfc6EOhZp"
      }
    },
    {
      "cell_type": "code",
      "source": [
        "dept = [(\"Finance\", 10),\n",
        "        (\"Marketing\", 20),\n",
        "        (\"Sales\", 30),\n",
        "        (\"IT\", 40)]\n",
        "\n",
        "deptColumns = [\"dept_name\", \"dept_id\"]"
      ],
      "metadata": {
        "id": "XYkSMKAaOjMS"
      },
      "execution_count": 3,
      "outputs": []
    },
    {
      "cell_type": "markdown",
      "source": [
        "- Defines sample data as a list of tuples, where each tuple represents a row in the DataFrame.\n",
        "- Defines a schema with two fields: `dept_name` and `dept_id`.\n"
      ],
      "metadata": {
        "id": "yTwkbBQCOk2N"
      }
    },
    {
      "cell_type": "markdown",
      "source": [
        "# 3. **Creating DataFrame**:\n"
      ],
      "metadata": {
        "id": "KlBaFDskOm-W"
      }
    },
    {
      "cell_type": "code",
      "source": [
        "deptDF = spark.createDataFrame(data=dept, schema=deptColumns)\n",
        "deptDF.printSchema()\n",
        "deptDF.show(truncate=False)"
      ],
      "metadata": {
        "colab": {
          "base_uri": "https://localhost:8080/"
        },
        "id": "aVJAsTQCOo85",
        "outputId": "ea0bddcd-a721-468b-c846-ef3fc2b17e09"
      },
      "execution_count": 4,
      "outputs": [
        {
          "output_type": "stream",
          "name": "stdout",
          "text": [
            "root\n",
            " |-- dept_name: string (nullable = true)\n",
            " |-- dept_id: long (nullable = true)\n",
            "\n",
            "+---------+-------+\n",
            "|dept_name|dept_id|\n",
            "+---------+-------+\n",
            "|Finance  |10     |\n",
            "|Marketing|20     |\n",
            "|Sales    |30     |\n",
            "|IT       |40     |\n",
            "+---------+-------+\n",
            "\n"
          ]
        }
      ]
    },
    {
      "cell_type": "markdown",
      "source": [
        "   - Creates a DataFrame from the sample data and schema.\n",
        "   - Prints the schema of the DataFrame.\n",
        "   - Displays the content of the DataFrame without truncating the output.\n"
      ],
      "metadata": {
        "id": "1tA8k3vNOq16"
      }
    },
    {
      "cell_type": "markdown",
      "source": [
        "# 4. **Collecting Data from DataFrame**:\n"
      ],
      "metadata": {
        "id": "t9DV4jbYOsDr"
      }
    },
    {
      "cell_type": "code",
      "source": [
        "dataCollect = deptDF.collect()\n",
        "print(dataCollect)\n",
        "\n",
        "dataCollect2 = deptDF.select(\"dept_name\").collect()\n",
        "print(dataCollect2)"
      ],
      "metadata": {
        "colab": {
          "base_uri": "https://localhost:8080/"
        },
        "id": "hgQnG-p4Ot4d",
        "outputId": "a8bdfba5-6224-4a0d-8e5a-8d089965a778"
      },
      "execution_count": 5,
      "outputs": [
        {
          "output_type": "stream",
          "name": "stdout",
          "text": [
            "[Row(dept_name='Finance', dept_id=10), Row(dept_name='Marketing', dept_id=20), Row(dept_name='Sales', dept_id=30), Row(dept_name='IT', dept_id=40)]\n",
            "[Row(dept_name='Finance'), Row(dept_name='Marketing'), Row(dept_name='Sales'), Row(dept_name='IT')]\n"
          ]
        }
      ]
    },
    {
      "cell_type": "markdown",
      "source": [
        "   - Collects all rows of the DataFrame into a list of Row objects using the `collect()` method.\n",
        "   - Collects only the `dept_name` column into a list of Row objects using the `select()` method followed by `collect()`.\n"
      ],
      "metadata": {
        "id": "mMbyen-GOvOD"
      }
    },
    {
      "cell_type": "markdown",
      "source": [
        "# 5. **Iterating Over Collected Data**:\n"
      ],
      "metadata": {
        "id": "9qFnwq_lOwWv"
      }
    },
    {
      "cell_type": "code",
      "source": [
        "for row in dataCollect:\n",
        "    print(row['dept_name'] + \",\" + str(row['dept_id']))"
      ],
      "metadata": {
        "colab": {
          "base_uri": "https://localhost:8080/"
        },
        "id": "PYw-r3UwOysL",
        "outputId": "9df1098b-eddb-46bb-8a0a-81d22662fdb4"
      },
      "execution_count": 6,
      "outputs": [
        {
          "output_type": "stream",
          "name": "stdout",
          "text": [
            "Finance,10\n",
            "Marketing,20\n",
            "Sales,30\n",
            "IT,40\n"
          ]
        }
      ]
    },
    {
      "cell_type": "markdown",
      "source": [
        "   - Iterates over the collected data and prints each department's name and ID in the specified format.\n"
      ],
      "metadata": {
        "id": "0dosIB-8O0Lz"
      }
    }
  ]
}