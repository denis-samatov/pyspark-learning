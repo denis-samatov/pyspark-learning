{
  "nbformat": 4,
  "nbformat_minor": 0,
  "metadata": {
    "colab": {
      "provenance": []
    },
    "kernelspec": {
      "name": "python3",
      "display_name": "Python 3"
    },
    "language_info": {
      "name": "python"
    }
  },
  "cells": [
    {
      "cell_type": "markdown",
      "source": [
        "# 0. **Install PySpark**:"
      ],
      "metadata": {
        "id": "TXUnvNbxbFHK"
      }
    },
    {
      "cell_type": "code",
      "source": [
        "!pip install pyspark"
      ],
      "metadata": {
        "colab": {
          "base_uri": "https://localhost:8080/"
        },
        "id": "hTf97qZabeZg",
        "outputId": "63003892-1200-4810-c2b8-3a87bf74f24f"
      },
      "execution_count": 8,
      "outputs": [
        {
          "output_type": "stream",
          "name": "stdout",
          "text": [
            "Requirement already satisfied: pyspark in /usr/local/lib/python3.10/dist-packages (3.5.1)\n",
            "Requirement already satisfied: py4j==0.10.9.7 in /usr/local/lib/python3.10/dist-packages (from pyspark) (0.10.9.7)\n"
          ]
        }
      ]
    },
    {
      "cell_type": "markdown",
      "source": [
        "# 1. **Create SparkSession**:"
      ],
      "metadata": {
        "id": "aWMvUYUfbDNN"
      }
    },
    {
      "cell_type": "code",
      "source": [
        "from pyspark.sql import SparkSession\n",
        "from pyspark.sql.types import DoubleType, IntegerType\n",
        "\n",
        "spark = SparkSession.builder.appName('SparkByExamples.com').getOrCreate()"
      ],
      "metadata": {
        "id": "BbAAqNuRb3Z1"
      },
      "execution_count": 9,
      "outputs": []
    },
    {
      "cell_type": "markdown",
      "source": [
        "- Initializes a Spark session with the application name 'SparkByExamples.com'.\n"
      ],
      "metadata": {
        "id": "cFbE2DRyb44V"
      }
    },
    {
      "cell_type": "markdown",
      "source": [
        "# 2. **Sample Data and Schema**:\n"
      ],
      "metadata": {
        "id": "E6paw7tYb7Ey"
      }
    },
    {
      "cell_type": "code",
      "source": [
        "simpleData = [(\"James\", \"34\", \"true\", \"M\", \"3000.6089\"),\n",
        "              (\"Michael\", \"33\", \"true\", \"F\", \"3300.8067\"),\n",
        "              (\"Robert\", \"37\", \"false\", \"M\", \"5000.5034\")]\n",
        "\n",
        "columns = [\"firstname\", \"age\", \"isGraduated\", \"gender\", \"salary\"]\n",
        "\n",
        "df = spark.createDataFrame(data=simpleData, schema=columns)\n",
        "df.printSchema()\n",
        "df.show(truncate=False)"
      ],
      "metadata": {
        "colab": {
          "base_uri": "https://localhost:8080/"
        },
        "id": "dWc-okhRb6VM",
        "outputId": "ac58581d-0964-4cb7-c3db-ba47e2a11c06"
      },
      "execution_count": 10,
      "outputs": [
        {
          "output_type": "stream",
          "name": "stdout",
          "text": [
            "root\n",
            " |-- firstname: string (nullable = true)\n",
            " |-- age: string (nullable = true)\n",
            " |-- isGraduated: string (nullable = true)\n",
            " |-- gender: string (nullable = true)\n",
            " |-- salary: string (nullable = true)\n",
            "\n",
            "+---------+---+-----------+------+---------+\n",
            "|firstname|age|isGraduated|gender|salary   |\n",
            "+---------+---+-----------+------+---------+\n",
            "|James    |34 |true       |M     |3000.6089|\n",
            "|Michael  |33 |true       |F     |3300.8067|\n",
            "|Robert   |37 |false      |M     |5000.5034|\n",
            "+---------+---+-----------+------+---------+\n",
            "\n"
          ]
        }
      ]
    },
    {
      "cell_type": "markdown",
      "source": [
        "- Defines sample data and schema.\n",
        "- Creates a DataFrame from the sample data and schema.\n",
        "- Prints the schema and displays the DataFrame.\n"
      ],
      "metadata": {
        "id": "8FYO47AGb_B_"
      }
    },
    {
      "cell_type": "markdown",
      "source": [
        "# 3. **Casting Salary to DoubleType**:\n"
      ],
      "metadata": {
        "id": "bWblR_k9cG8W"
      }
    },
    {
      "cell_type": "code",
      "source": [
        "df1 = df.withColumn(\"salary\", df.salary.cast('double'))\n",
        "df1.printSchema()\n",
        "df1.show(truncate=False)"
      ],
      "metadata": {
        "colab": {
          "base_uri": "https://localhost:8080/"
        },
        "id": "8cg7L76rcIrs",
        "outputId": "b58cf5cb-6fa7-435c-9530-0bf4ef3c44a9"
      },
      "execution_count": 11,
      "outputs": [
        {
          "output_type": "stream",
          "name": "stdout",
          "text": [
            "root\n",
            " |-- firstname: string (nullable = true)\n",
            " |-- age: string (nullable = true)\n",
            " |-- isGraduated: string (nullable = true)\n",
            " |-- gender: string (nullable = true)\n",
            " |-- salary: double (nullable = true)\n",
            "\n",
            "+---------+---+-----------+------+---------+\n",
            "|firstname|age|isGraduated|gender|salary   |\n",
            "+---------+---+-----------+------+---------+\n",
            "|James    |34 |true       |M     |3000.6089|\n",
            "|Michael  |33 |true       |F     |3300.8067|\n",
            "|Robert   |37 |false      |M     |5000.5034|\n",
            "+---------+---+-----------+------+---------+\n",
            "\n"
          ]
        }
      ]
    },
    {
      "cell_type": "markdown",
      "source": [
        "- Casts the `salary` column to `double` using the string type name.\n"
      ],
      "metadata": {
        "id": "ax6tRj7BcKFW"
      }
    },
    {
      "cell_type": "markdown",
      "source": [
        "# 4. **Corrected Typo in DoubleType**:\n"
      ],
      "metadata": {
        "id": "dMuc-QJscLbM"
      }
    },
    {
      "cell_type": "code",
      "source": [
        "df2 = df.withColumn(\"salary\", df.salary.cast(DoubleType()))\n",
        "df2.printSchema()\n",
        "df2.show(truncate=False)"
      ],
      "metadata": {
        "colab": {
          "base_uri": "https://localhost:8080/"
        },
        "id": "yEEjEMjZcNaP",
        "outputId": "d0e0f027-47f0-4f3b-e807-0fcdf26de474"
      },
      "execution_count": 12,
      "outputs": [
        {
          "output_type": "stream",
          "name": "stdout",
          "text": [
            "root\n",
            " |-- firstname: string (nullable = true)\n",
            " |-- age: string (nullable = true)\n",
            " |-- isGraduated: string (nullable = true)\n",
            " |-- gender: string (nullable = true)\n",
            " |-- salary: double (nullable = true)\n",
            "\n",
            "+---------+---+-----------+------+---------+\n",
            "|firstname|age|isGraduated|gender|salary   |\n",
            "+---------+---+-----------+------+---------+\n",
            "|James    |34 |true       |M     |3000.6089|\n",
            "|Michael  |33 |true       |F     |3300.8067|\n",
            "|Robert   |37 |false      |M     |5000.5034|\n",
            "+---------+---+-----------+------+---------+\n",
            "\n"
          ]
        }
      ]
    },
    {
      "cell_type": "markdown",
      "source": [
        "- Casts the `salary` column to `DoubleType()`.\n"
      ],
      "metadata": {
        "id": "hF1j7uAncO67"
      }
    },
    {
      "cell_type": "markdown",
      "source": [
        "# 5. **Casting with col and DoubleType**:\n"
      ],
      "metadata": {
        "id": "indjFaMqcQTc"
      }
    },
    {
      "cell_type": "code",
      "source": [
        "from pyspark.sql.functions import col,round,expr\n",
        "\n",
        "df3 = df.withColumn(\"salary\", col(\"salary\").cast('double'))\n",
        "df3.printSchema()\n",
        "df3.show(truncate=False)"
      ],
      "metadata": {
        "colab": {
          "base_uri": "https://localhost:8080/"
        },
        "id": "qeGB5-xAcSVg",
        "outputId": "3097646e-c94e-46de-a00d-6809dece742d"
      },
      "execution_count": 13,
      "outputs": [
        {
          "output_type": "stream",
          "name": "stdout",
          "text": [
            "root\n",
            " |-- firstname: string (nullable = true)\n",
            " |-- age: string (nullable = true)\n",
            " |-- isGraduated: string (nullable = true)\n",
            " |-- gender: string (nullable = true)\n",
            " |-- salary: double (nullable = true)\n",
            "\n",
            "+---------+---+-----------+------+---------+\n",
            "|firstname|age|isGraduated|gender|salary   |\n",
            "+---------+---+-----------+------+---------+\n",
            "|James    |34 |true       |M     |3000.6089|\n",
            "|Michael  |33 |true       |F     |3300.8067|\n",
            "|Robert   |37 |false      |M     |5000.5034|\n",
            "+---------+---+-----------+------+---------+\n",
            "\n"
          ]
        }
      ]
    },
    {
      "cell_type": "markdown",
      "source": [
        "# 6. **Rounding the Salary to 2 Decimal Places**:\n"
      ],
      "metadata": {
        "id": "BARz-hN_cUK4"
      }
    },
    {
      "cell_type": "code",
      "source": [
        "df4 = df.withColumn(\"salary\", round(col(\"salary\").cast(DoubleType()), 2))\n",
        "df4.printSchema()\n",
        "df4.show(truncate=False)"
      ],
      "metadata": {
        "colab": {
          "base_uri": "https://localhost:8080/"
        },
        "id": "2WWx10IvcYtX",
        "outputId": "c66b55cb-27cc-473d-a841-3c72c431440a"
      },
      "execution_count": 14,
      "outputs": [
        {
          "output_type": "stream",
          "name": "stdout",
          "text": [
            "root\n",
            " |-- firstname: string (nullable = true)\n",
            " |-- age: string (nullable = true)\n",
            " |-- isGraduated: string (nullable = true)\n",
            " |-- gender: string (nullable = true)\n",
            " |-- salary: double (nullable = true)\n",
            "\n",
            "+---------+---+-----------+------+-------+\n",
            "|firstname|age|isGraduated|gender|salary |\n",
            "+---------+---+-----------+------+-------+\n",
            "|James    |34 |true       |M     |3000.61|\n",
            "|Michael  |33 |true       |F     |3300.81|\n",
            "|Robert   |37 |false      |M     |5000.5 |\n",
            "+---------+---+-----------+------+-------+\n",
            "\n"
          ]
        }
      ]
    },
    {
      "cell_type": "markdown",
      "source": [
        "- Casts the `salary` column to `DoubleType()` and rounds the values to 2 decimal places.\n"
      ],
      "metadata": {
        "id": "oZdKqTCTcadW"
      }
    },
    {
      "cell_type": "markdown",
      "source": [
        "# 7. **Using selectExpr for Casting**:\n"
      ],
      "metadata": {
        "id": "qb4ijHgMcb3w"
      }
    },
    {
      "cell_type": "code",
      "source": [
        "df5 = df.selectExpr(\"firstname\", \"isGraduated\", \"cast(salary as double) as salary\")\n",
        "df5.printSchema()\n",
        "df5.show(truncate=False)"
      ],
      "metadata": {
        "colab": {
          "base_uri": "https://localhost:8080/"
        },
        "id": "xyOzL3-vcdpy",
        "outputId": "1fd40c90-d93e-4bdc-afd0-f9f2495a4e88"
      },
      "execution_count": 15,
      "outputs": [
        {
          "output_type": "stream",
          "name": "stdout",
          "text": [
            "root\n",
            " |-- firstname: string (nullable = true)\n",
            " |-- isGraduated: string (nullable = true)\n",
            " |-- salary: double (nullable = true)\n",
            "\n",
            "+---------+-----------+---------+\n",
            "|firstname|isGraduated|salary   |\n",
            "+---------+-----------+---------+\n",
            "|James    |true       |3000.6089|\n",
            "|Michael  |true       |3300.8067|\n",
            "|Robert   |false      |5000.5034|\n",
            "+---------+-----------+---------+\n",
            "\n"
          ]
        }
      ]
    },
    {
      "cell_type": "markdown",
      "source": [
        "# 8. **Using SQL for Casting**:\n"
      ],
      "metadata": {
        "id": "G2IxHk2_ce7W"
      }
    },
    {
      "cell_type": "code",
      "execution_count": 17,
      "metadata": {
        "colab": {
          "base_uri": "https://localhost:8080/"
        },
        "id": "mEv1sEKGUuRB",
        "outputId": "7bcedf6e-b752-4314-d199-603b7e266505"
      },
      "outputs": [
        {
          "output_type": "stream",
          "name": "stdout",
          "text": [
            "root\n",
            " |-- firstname: string (nullable = true)\n",
            " |-- isGraduated: string (nullable = true)\n",
            " |-- salary: double (nullable = true)\n",
            "\n",
            "+---------+-----------+---------+\n",
            "|firstname|isGraduated|salary   |\n",
            "+---------+-----------+---------+\n",
            "|James    |true       |3000.6089|\n",
            "|Michael  |true       |3300.8067|\n",
            "|Robert   |false      |5000.5034|\n",
            "+---------+-----------+---------+\n",
            "\n"
          ]
        }
      ],
      "source": [
        "df.createOrReplaceTempView(\"CastExample\")\n",
        "\n",
        "df6 = spark.sql(\"SELECT firstname, isGraduated, CAST(salary AS DOUBLE) as salary FROM CastExample\")\n",
        "df6.printSchema()\n",
        "df6.show(truncate=False)"
      ]
    },
    {
      "cell_type": "code",
      "source": [],
      "metadata": {
        "id": "jhgXYKWUhbX9"
      },
      "execution_count": null,
      "outputs": []
    }
  ]
}