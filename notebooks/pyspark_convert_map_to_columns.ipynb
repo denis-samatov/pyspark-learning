{
  "nbformat": 4,
  "nbformat_minor": 0,
  "metadata": {
    "colab": {
      "provenance": [],
      "collapsed_sections": [
        "HhpJvMvDxR4h",
        "7fV_6ULPxcUr",
        "Rc-RsWXnxhJF",
        "uBHGjbk_xl9R",
        "jtz1_2aixrhB",
        "5hqHxvJexx2B",
        "nynSzlgRx2cR"
      ]
    },
    "kernelspec": {
      "name": "python3",
      "display_name": "Python 3"
    },
    "language_info": {
      "name": "python"
    }
  },
  "cells": [
    {
      "cell_type": "markdown",
      "source": [
        "### 1. **Initializing Spark Session**:"
      ],
      "metadata": {
        "id": "HhpJvMvDxR4h"
      }
    },
    {
      "cell_type": "code",
      "source": [
        "!pip install pyspark"
      ],
      "metadata": {
        "colab": {
          "base_uri": "https://localhost:8080/"
        },
        "id": "W3I41SrTyCYa",
        "outputId": "df992904-f57f-480d-eaae-4c705c3bc087"
      },
      "execution_count": 2,
      "outputs": [
        {
          "output_type": "stream",
          "name": "stdout",
          "text": [
            "Collecting pyspark\n",
            "  Downloading pyspark-3.5.1.tar.gz (317.0 MB)\n",
            "\u001b[2K     \u001b[90m━━━━━━━━━━━━━━━━━━━━━━━━━━━━━━━━━━━━━━━━\u001b[0m \u001b[32m317.0/317.0 MB\u001b[0m \u001b[31m3.4 MB/s\u001b[0m eta \u001b[36m0:00:00\u001b[0m\n",
            "\u001b[?25h  Preparing metadata (setup.py) ... \u001b[?25l\u001b[?25hdone\n",
            "Requirement already satisfied: py4j==0.10.9.7 in /usr/local/lib/python3.10/dist-packages (from pyspark) (0.10.9.7)\n",
            "Building wheels for collected packages: pyspark\n",
            "  Building wheel for pyspark (setup.py) ... \u001b[?25l\u001b[?25hdone\n",
            "  Created wheel for pyspark: filename=pyspark-3.5.1-py2.py3-none-any.whl size=317488491 sha256=f8e38230cf9f05f1df008d437f729115fe9e4bf1d6b7a55edc40bba4d6522493\n",
            "  Stored in directory: /root/.cache/pip/wheels/80/1d/60/2c256ed38dddce2fdd93be545214a63e02fbd8d74fb0b7f3a6\n",
            "Successfully built pyspark\n",
            "Installing collected packages: pyspark\n",
            "Successfully installed pyspark-3.5.1\n"
          ]
        }
      ]
    },
    {
      "cell_type": "code",
      "source": [
        "from pyspark.sql import SparkSession\n",
        "from pyspark.sql.functions import explode,map_keys,col\n",
        "spark = SparkSession.builder.appName('SparkByExamples.com').getOrCreate()"
      ],
      "metadata": {
        "id": "5ui03uDfxZ_Y"
      },
      "execution_count": 10,
      "outputs": []
    },
    {
      "cell_type": "markdown",
      "source": [
        "   - Initializes a Spark session with the application name 'SparkByExamples.com'.\n"
      ],
      "metadata": {
        "id": "yqk-iksZxbYP"
      }
    },
    {
      "cell_type": "markdown",
      "source": [
        "### 2. **Defining Sample Data**:\n"
      ],
      "metadata": {
        "id": "7fV_6ULPxcUr"
      }
    },
    {
      "cell_type": "code",
      "source": [
        "dataDictionary = [\n",
        "    ('James', {'hair': 'black', 'eye': 'brown'}),\n",
        "    ('Michael', {'hair': 'brown', 'eye': None}),\n",
        "    ('Robert', {'hair': 'red', 'eye': 'black'}),\n",
        "    ('Washington', {'hair': 'grey', 'eye': 'grey'}),\n",
        "    ('Jefferson', {'hair': 'brown', 'eye': ''})\n",
        "]"
      ],
      "metadata": {
        "id": "ieueJU0rxedA"
      },
      "execution_count": 4,
      "outputs": []
    },
    {
      "cell_type": "markdown",
      "source": [
        "   - Defines sample data with a dictionary column.\n"
      ],
      "metadata": {
        "id": "7jLa1ekvxgGG"
      }
    },
    {
      "cell_type": "markdown",
      "source": [
        "### 3. **Creating DataFrame**:\n"
      ],
      "metadata": {
        "id": "Rc-RsWXnxhJF"
      }
    },
    {
      "cell_type": "code",
      "source": [
        "df = spark.createDataFrame(data=dataDictionary, schema=['name', 'properties'])\n",
        "df.printSchema()\n",
        "df.show(truncate=False)"
      ],
      "metadata": {
        "colab": {
          "base_uri": "https://localhost:8080/"
        },
        "id": "ZkKFFyC1xjLp",
        "outputId": "6ae4f5ea-a9e1-403d-9b76-2dcdf143d2b4"
      },
      "execution_count": 5,
      "outputs": [
        {
          "output_type": "stream",
          "name": "stdout",
          "text": [
            "root\n",
            " |-- name: string (nullable = true)\n",
            " |-- properties: map (nullable = true)\n",
            " |    |-- key: string\n",
            " |    |-- value: string (valueContainsNull = true)\n",
            "\n",
            "+----------+-----------------------------+\n",
            "|name      |properties                   |\n",
            "+----------+-----------------------------+\n",
            "|James     |{eye -> brown, hair -> black}|\n",
            "|Michael   |{eye -> NULL, hair -> brown} |\n",
            "|Robert    |{eye -> black, hair -> red}  |\n",
            "|Washington|{eye -> grey, hair -> grey}  |\n",
            "|Jefferson |{eye -> , hair -> brown}     |\n",
            "+----------+-----------------------------+\n",
            "\n"
          ]
        }
      ]
    },
    {
      "cell_type": "markdown",
      "source": [
        "   - Creates a DataFrame with the specified schema.\n",
        "   - Prints the schema and shows the DataFrame content.\n"
      ],
      "metadata": {
        "id": "3unu5VVZxkk-"
      }
    },
    {
      "cell_type": "markdown",
      "source": [
        "### 4. **Converting RDD to DataFrame with Separate Columns**:\n"
      ],
      "metadata": {
        "id": "uBHGjbk_xl9R"
      }
    },
    {
      "cell_type": "code",
      "source": [
        "df3 = df.rdd.map(lambda x: (x.name, x.properties[\"hair\"], x.properties[\"eye\"])) \\\n",
        "            .toDF([\"name\", \"hair\", \"eye\"])\n",
        "df3.printSchema()\n",
        "df3.show()"
      ],
      "metadata": {
        "colab": {
          "base_uri": "https://localhost:8080/"
        },
        "id": "ZhP-lYwfxoBb",
        "outputId": "98513c87-4885-496f-a003-e17d8886e318"
      },
      "execution_count": 6,
      "outputs": [
        {
          "output_type": "stream",
          "name": "stdout",
          "text": [
            "root\n",
            " |-- name: string (nullable = true)\n",
            " |-- hair: string (nullable = true)\n",
            " |-- eye: string (nullable = true)\n",
            "\n",
            "+----------+-----+-----+\n",
            "|      name| hair|  eye|\n",
            "+----------+-----+-----+\n",
            "|     James|black|brown|\n",
            "|   Michael|brown| NULL|\n",
            "|    Robert|  red|black|\n",
            "|Washington| grey| grey|\n",
            "| Jefferson|brown|     |\n",
            "+----------+-----+-----+\n",
            "\n"
          ]
        }
      ]
    },
    {
      "cell_type": "markdown",
      "source": [
        "- Converts the DataFrame to an RDD and then maps each row to extract `name`, `hair`, and `eye`.\n",
        "- Converts the RDD back to a DataFrame with separate columns for `name`, `hair`, and `eye`.\n",
        "- Prints the schema and shows the new DataFrame content.\n"
      ],
      "metadata": {
        "id": "M15k_dk7xqAV"
      }
    },
    {
      "cell_type": "markdown",
      "source": [
        "### 5. **Extracting Columns from Dictionary Using withColumn and getItem**:\n"
      ],
      "metadata": {
        "id": "jtz1_2aixrhB"
      }
    },
    {
      "cell_type": "code",
      "source": [
        "df.withColumn(\"hair\", df.properties.getItem(\"hair\")) \\\n",
        "  .withColumn(\"eye\", df.properties.getItem(\"eye\")) \\\n",
        "  .drop(\"properties\") \\\n",
        "  .show()"
      ],
      "metadata": {
        "colab": {
          "base_uri": "https://localhost:8080/"
        },
        "id": "6bT0DY1Fxtpg",
        "outputId": "db5a860d-246e-4c61-81e3-c9aee146a98a"
      },
      "execution_count": 7,
      "outputs": [
        {
          "output_type": "stream",
          "name": "stdout",
          "text": [
            "+----------+-----+-----+\n",
            "|      name| hair|  eye|\n",
            "+----------+-----+-----+\n",
            "|     James|black|brown|\n",
            "|   Michael|brown| NULL|\n",
            "|    Robert|  red|black|\n",
            "|Washington| grey| grey|\n",
            "| Jefferson|brown|     |\n",
            "+----------+-----+-----+\n",
            "\n"
          ]
        }
      ]
    },
    {
      "cell_type": "markdown",
      "source": [
        "- Uses `withColumn` and `getItem` to create new columns `hair` and `eye` from the `properties` dictionary.\n",
        "- Drops the original `properties` column.\n",
        "- Shows the updated DataFrame content.\n"
      ],
      "metadata": {
        "id": "BfperG0YxvvS"
      }
    },
    {
      "cell_type": "markdown",
      "source": [
        "### 6. **Extracting Columns from Dictionary Using withColumn and Direct Indexing**:\n"
      ],
      "metadata": {
        "id": "5hqHxvJexx2B"
      }
    },
    {
      "cell_type": "code",
      "source": [
        "df.withColumn(\"hair\", df.properties[\"hair\"]) \\\n",
        "  .withColumn(\"eye\", df.properties[\"eye\"]) \\\n",
        "  .drop(\"properties\") \\\n",
        "  .show()"
      ],
      "metadata": {
        "colab": {
          "base_uri": "https://localhost:8080/"
        },
        "id": "i3AlgnwSxzqI",
        "outputId": "f8a0681e-2d80-4104-f09e-f51c5c864f5c"
      },
      "execution_count": 8,
      "outputs": [
        {
          "output_type": "stream",
          "name": "stdout",
          "text": [
            "+----------+-----+-----+\n",
            "|      name| hair|  eye|\n",
            "+----------+-----+-----+\n",
            "|     James|black|brown|\n",
            "|   Michael|brown| NULL|\n",
            "|    Robert|  red|black|\n",
            "|Washington| grey| grey|\n",
            "| Jefferson|brown|     |\n",
            "+----------+-----+-----+\n",
            "\n"
          ]
        }
      ]
    },
    {
      "cell_type": "markdown",
      "source": [
        "   - Similar to the previous step, but uses direct indexing to extract `hair` and `eye` from the `properties` dictionary.\n",
        "   - Shows the updated DataFrame content.\n"
      ],
      "metadata": {
        "id": "jxxyOP1Xx1fj"
      }
    },
    {
      "cell_type": "markdown",
      "source": [
        "### 7. **Extracting Keys from the Map and Creating Separate Columns**:\n"
      ],
      "metadata": {
        "id": "nynSzlgRx2cR"
      }
    },
    {
      "cell_type": "code",
      "source": [
        "keysDF = df.select(explode(map_keys(df.properties))).distinct()\n",
        "keysList = keysDF.rdd.map(lambda x: x[0]).collect()\n",
        "keyCols = list(map(lambda x: col(\"properties\").getItem(x).alias(str(x)), keysList))\n",
        "df.select(df.name, *keyCols).show()"
      ],
      "metadata": {
        "colab": {
          "base_uri": "https://localhost:8080/"
        },
        "id": "7ou8oFO1x4CI",
        "outputId": "af110693-bd37-4c87-95d4-3b2770bc1c5f"
      },
      "execution_count": 11,
      "outputs": [
        {
          "output_type": "stream",
          "name": "stdout",
          "text": [
            "+----------+-----+-----+\n",
            "|      name|  eye| hair|\n",
            "+----------+-----+-----+\n",
            "|     James|brown|black|\n",
            "|   Michael| NULL|brown|\n",
            "|    Robert|black|  red|\n",
            "|Washington| grey| grey|\n",
            "| Jefferson|     |brown|\n",
            "+----------+-----+-----+\n",
            "\n"
          ]
        }
      ]
    },
    {
      "cell_type": "markdown",
      "source": [
        "- Extracts the keys from the `properties` map using `map_keys` and `explode`.\n",
        "- Collects the distinct keys into a list.\n",
        "- Creates new columns for each key in the `properties` map using `getItem` and `alias`.\n",
        "- Selects the `name` column and the newly created columns, and shows the updated DataFrame content.\n"
      ],
      "metadata": {
        "id": "LPhtAiddx32_"
      }
    },
    {
      "cell_type": "markdown",
      "source": [
        "### Key Points\n",
        "\n",
        "- **Creating DataFrame**: Demonstrates how to create a DataFrame with a dictionary column.\n",
        "- **Converting RDD to DataFrame**: Shows how to convert an RDD back to a DataFrame with separate columns.\n",
        "- **Extracting Columns from Dictionary**: Uses `withColumn` with `getItem` and direct indexing to extract individual fields from a dictionary column.\n",
        "- **Exploding Map Keys**: Extracts keys from a map column and creates separate columns for each key.\n"
      ],
      "metadata": {
        "id": "5UsxmxAqx_LJ"
      }
    }
  ]
}