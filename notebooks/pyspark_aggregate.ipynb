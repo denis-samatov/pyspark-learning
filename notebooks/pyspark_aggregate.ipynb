{
  "nbformat": 4,
  "nbformat_minor": 0,
  "metadata": {
    "colab": {
      "provenance": [],
      "collapsed_sections": [
        "TJKjcexez9Fq",
        "G9urtOihVfmJ",
        "ZQUTT1m6Vj4H",
        "OcEJ3AebVp3M",
        "FYgVEq5UVvCg",
        "vBxInkpBV0mg",
        "Dyx7ZUN_V5m3",
        "alBFIKq3V-DY",
        "jaclhuUoWD4e",
        "XNYelEXjWI-f",
        "dTIGf91sWXe8",
        "1NMHvMKYWf0z",
        "YmYhOZA3Wl3O",
        "Vy-6SS0eWtvo",
        "w4Dgk7I0W1Pc",
        "qJSlhBmEW9HL",
        "tJvEZ2SeXOr8",
        "F9Vy5Hp9XYEe",
        "UE8fCtokXd-1"
      ]
    },
    "kernelspec": {
      "name": "python3",
      "display_name": "Python 3"
    },
    "language_info": {
      "name": "python"
    }
  },
  "cells": [
    {
      "cell_type": "markdown",
      "source": [
        "# 0. **Install PySpark**"
      ],
      "metadata": {
        "id": "TJKjcexez9Fq"
      }
    },
    {
      "cell_type": "code",
      "source": [
        "!pip install pyspark"
      ],
      "metadata": {
        "colab": {
          "base_uri": "https://localhost:8080/"
        },
        "id": "fc51oRbw0MkQ",
        "outputId": "c219ee66-430a-4b16-bc3b-b5bfa88e86a0"
      },
      "execution_count": 12,
      "outputs": [
        {
          "output_type": "stream",
          "name": "stdout",
          "text": [
            "Requirement already satisfied: pyspark in /usr/local/lib/python3.10/dist-packages (3.5.1)\n",
            "Requirement already satisfied: py4j==0.10.9.7 in /usr/local/lib/python3.10/dist-packages (from pyspark) (0.10.9.7)\n"
          ]
        }
      ]
    },
    {
      "cell_type": "markdown",
      "source": [
        "# 1. **Imports**:"
      ],
      "metadata": {
        "id": "G9urtOihVfmJ"
      }
    },
    {
      "cell_type": "code",
      "source": [
        "import pyspark\n",
        "from pyspark.sql import SparkSession\n",
        "from pyspark.sql.functions import approx_count_distinct, collect_list, collect_set\n",
        "from pyspark.sql.functions import sum, avg, max, countDistinct, count\n",
        "from pyspark.sql.functions import first, last, kurtosis, min, mean, skewness\n",
        "from pyspark.sql.functions import stddev, stddev_samp, stddev_pop, sumDistinct\n",
        "from pyspark.sql.functions import variance, var_samp, var_pop"
      ],
      "metadata": {
        "id": "6hUpD7EnVd7r"
      },
      "execution_count": 13,
      "outputs": []
    },
    {
      "cell_type": "markdown",
      "source": [
        "   - Various functions from `pyspark.sql.functions` are imported to perform different aggregate operations.\n"
      ],
      "metadata": {
        "id": "p2wTlDuiVin0"
      }
    },
    {
      "cell_type": "markdown",
      "source": [
        "# 2. **Initialize Spark session**:\n"
      ],
      "metadata": {
        "id": "ZQUTT1m6Vj4H"
      }
    },
    {
      "cell_type": "code",
      "source": [
        "spark = SparkSession.builder.appName('SparkByExamples.com').getOrCreate()"
      ],
      "metadata": {
        "id": "ymXTp4cTVl2B"
      },
      "execution_count": 14,
      "outputs": []
    },
    {
      "cell_type": "markdown",
      "source": [
        "   - Initializes a Spark session."
      ],
      "metadata": {
        "id": "lkTn9lAxVn5r"
      }
    },
    {
      "cell_type": "markdown",
      "source": [
        "# 3. **Sample data and schema**:\n"
      ],
      "metadata": {
        "id": "OcEJ3AebVp3M"
      }
    },
    {
      "cell_type": "code",
      "source": [
        "simpleData = simpleData = [(\"James\", \"Sales\", 3000),\n",
        "                            (\"Michael\", \"Sales\", 4600),\n",
        "                            (\"Robert\", \"Sales\", 4100),\n",
        "                            (\"Maria\", \"Finance\", 3000),\n",
        "                            (\"James\", \"Sales\", 3000),\n",
        "                            (\"Scott\", \"Finance\", 3300),\n",
        "                            (\"Jen\", \"Finance\", 3900),\n",
        "                            (\"Jeff\", \"Marketing\", 3000),\n",
        "                            (\"Kumar\", \"Marketing\", 2000),\n",
        "                            (\"Saif\", \"Sales\", 4100)\n",
        "  ]\n",
        "schema = [\"employee_name\", \"department\", \"salary\"]"
      ],
      "metadata": {
        "id": "XxC68aEyVr1k"
      },
      "execution_count": 15,
      "outputs": []
    },
    {
      "cell_type": "markdown",
      "source": [
        "   - Defines sample data and schema.\n"
      ],
      "metadata": {
        "id": "V6NXssEqVtuZ"
      }
    },
    {
      "cell_type": "markdown",
      "source": [
        "# 4. **Create DataFrame**:\n"
      ],
      "metadata": {
        "id": "FYgVEq5UVvCg"
      }
    },
    {
      "cell_type": "code",
      "source": [
        "df = spark.createDataFrame(data=simpleData, schema=schema)\n",
        "df.printSchema()\n",
        "df.show(truncate=False)"
      ],
      "metadata": {
        "colab": {
          "base_uri": "https://localhost:8080/"
        },
        "id": "yC-p79DnVxlD",
        "outputId": "3abcd1b9-5c54-4b40-892c-3a44cf3be59e"
      },
      "execution_count": 8,
      "outputs": [
        {
          "output_type": "stream",
          "name": "stdout",
          "text": [
            "root\n",
            " |-- employee_name: string (nullable = true)\n",
            " |-- department: string (nullable = true)\n",
            " |-- salary: long (nullable = true)\n",
            "\n",
            "+-------------+----------+------+\n",
            "|employee_name|department|salary|\n",
            "+-------------+----------+------+\n",
            "|James        |Sales     |3000  |\n",
            "|Michael      |Sales     |4600  |\n",
            "|Robert       |Sales     |4100  |\n",
            "|Maria        |Finance   |3000  |\n",
            "|James        |Sales     |3000  |\n",
            "|Scott        |Finance   |3300  |\n",
            "|Jen          |Finance   |3900  |\n",
            "|Jeff         |Marketing |3000  |\n",
            "|Kumar        |Marketing |2000  |\n",
            "|Saif         |Sales     |4100  |\n",
            "+-------------+----------+------+\n",
            "\n"
          ]
        }
      ]
    },
    {
      "cell_type": "markdown",
      "source": [
        "   - Creates a DataFrame from the sample data and displays its schema and content.\n"
      ],
      "metadata": {
        "id": "l9jgT25QVzGT"
      }
    },
    {
      "cell_type": "markdown",
      "source": [
        "# 5. **Approximate Count Distinct**:\n"
      ],
      "metadata": {
        "id": "vBxInkpBV0mg"
      }
    },
    {
      "cell_type": "code",
      "source": [
        "approx_distinct_count = df.select(approx_count_distinct(\"salary\")).collect()[0][0]\n",
        "\n",
        "print(\"approx_count_distinct: \" + str(approx_distinct_count))"
      ],
      "metadata": {
        "colab": {
          "base_uri": "https://localhost:8080/"
        },
        "id": "jbKErwHEV24a",
        "outputId": "1d5b71b3-9bbd-4d43-cf78-5a960bbbfaf2"
      },
      "execution_count": 9,
      "outputs": [
        {
          "output_type": "stream",
          "name": "stdout",
          "text": [
            "approx_count_distinct: 6\n"
          ]
        }
      ]
    },
    {
      "cell_type": "markdown",
      "source": [
        "   - Computes an approximate count of distinct values in the `salary` column.\n"
      ],
      "metadata": {
        "id": "ltn2iC9KV4eC"
      }
    },
    {
      "cell_type": "markdown",
      "source": [
        "# 6. **Average**:\n"
      ],
      "metadata": {
        "id": "Dyx7ZUN_V5m3"
      }
    },
    {
      "cell_type": "code",
      "source": [
        "average_salary = df.select(avg(\"salary\")).collect()[0][0]\n",
        "print(\"avg: \" + str(average_salary))"
      ],
      "metadata": {
        "colab": {
          "base_uri": "https://localhost:8080/"
        },
        "id": "90F5ZFMZV7k4",
        "outputId": "0d35ac54-e20b-4850-e356-65f1adfc4574"
      },
      "execution_count": 10,
      "outputs": [
        {
          "output_type": "stream",
          "name": "stdout",
          "text": [
            "avg: 3400.0\n"
          ]
        }
      ]
    },
    {
      "cell_type": "markdown",
      "source": [
        "   - Calculates the average of the `salary` column.\n"
      ],
      "metadata": {
        "id": "N-aTv187V9MY"
      }
    },
    {
      "cell_type": "markdown",
      "source": [
        "# 7. **Collect List**:\n"
      ],
      "metadata": {
        "id": "alBFIKq3V-DY"
      }
    },
    {
      "cell_type": "code",
      "source": [
        "df.select(collect_list(\"salary\")).show(truncate=False)"
      ],
      "metadata": {
        "colab": {
          "base_uri": "https://localhost:8080/"
        },
        "id": "hT9Jk0GoWAwE",
        "outputId": "83085f4a-ee2b-45c4-dcd1-446048f4ac1b"
      },
      "execution_count": 30,
      "outputs": [
        {
          "output_type": "stream",
          "name": "stdout",
          "text": [
            "+------------------------------------------------------------+\n",
            "|collect_list(salary)                                        |\n",
            "+------------------------------------------------------------+\n",
            "|[3000, 4600, 4100, 3000, 3000, 3300, 3900, 3000, 2000, 4100]|\n",
            "+------------------------------------------------------------+\n",
            "\n"
          ]
        }
      ]
    },
    {
      "cell_type": "markdown",
      "source": [
        "   - Collects all values of the `salary` column into a list.\n"
      ],
      "metadata": {
        "id": "yKBeUvxBWCZu"
      }
    },
    {
      "cell_type": "markdown",
      "source": [
        "# 8. **Collect Set**:\n"
      ],
      "metadata": {
        "id": "jaclhuUoWD4e"
      }
    },
    {
      "cell_type": "code",
      "source": [
        "df.select(collect_set(\"salary\")).show(truncate=False)"
      ],
      "metadata": {
        "colab": {
          "base_uri": "https://localhost:8080/"
        },
        "id": "-HkIhkGcWGC7",
        "outputId": "bee7d330-18a4-43b3-e4b2-72f7a7ce5802"
      },
      "execution_count": 16,
      "outputs": [
        {
          "output_type": "stream",
          "name": "stdout",
          "text": [
            "+------------------------------------+\n",
            "|collect_set(salary)                 |\n",
            "+------------------------------------+\n",
            "|[4600, 3000, 3900, 4100, 3300, 2000]|\n",
            "+------------------------------------+\n",
            "\n"
          ]
        }
      ]
    },
    {
      "cell_type": "markdown",
      "source": [
        "   - Collects unique values of the `salary` column into a set.\n"
      ],
      "metadata": {
        "id": "f8HlqV42WHhf"
      }
    },
    {
      "cell_type": "markdown",
      "source": [
        "# 9. **Count Distinct with Multiple Columns**:\n"
      ],
      "metadata": {
        "id": "XNYelEXjWI-f"
      }
    },
    {
      "cell_type": "code",
      "source": [
        "df2 = df.select(countDistinct(\"department\", \"salary\"))\n",
        "df2.show(truncate=False)\n",
        "distinct_count = df2.collect()[0][0]\n",
        "print(\"Distinct Count of Department & Salary: \" + str(distinct_count))"
      ],
      "metadata": {
        "colab": {
          "base_uri": "https://localhost:8080/"
        },
        "id": "p02umSNFWPL9",
        "outputId": "bc2839f2-5b46-48ef-9f4c-23eb8732906f"
      },
      "execution_count": 17,
      "outputs": [
        {
          "output_type": "stream",
          "name": "stdout",
          "text": [
            "+----------------------------------+\n",
            "|count(DISTINCT department, salary)|\n",
            "+----------------------------------+\n",
            "|8                                 |\n",
            "+----------------------------------+\n",
            "\n",
            "Distinct Count of Department & Salary: 8\n"
          ]
        }
      ]
    },
    {
      "cell_type": "markdown",
      "source": [
        "   - Counts distinct combinations of `department` and `salary` columns.\n"
      ],
      "metadata": {
        "id": "ZfCEbDa9WWkK"
      }
    },
    {
      "cell_type": "markdown",
      "source": [
        "# 10. **Count**:\n"
      ],
      "metadata": {
        "id": "dTIGf91sWXe8"
      }
    },
    {
      "cell_type": "code",
      "source": [
        "salary_count = df.select(count(\"salary\")).collect()[0][0]\n",
        "print(\"count: \" + str(salary_count))"
      ],
      "metadata": {
        "colab": {
          "base_uri": "https://localhost:8080/"
        },
        "id": "tkA_avynWZ4L",
        "outputId": "be377884-6c9f-4353-ae00-aa5874f54436"
      },
      "execution_count": 18,
      "outputs": [
        {
          "output_type": "stream",
          "name": "stdout",
          "text": [
            "count: 10\n"
          ]
        }
      ]
    },
    {
      "cell_type": "markdown",
      "source": [
        "- Counts the number of non-null values in the `salary` column.\n"
      ],
      "metadata": {
        "id": "TnETm1ElWc7f"
      }
    },
    {
      "cell_type": "markdown",
      "source": [
        "# 11. **First and Last Value**:\n"
      ],
      "metadata": {
        "id": "1NMHvMKYWf0z"
      }
    },
    {
      "cell_type": "code",
      "source": [
        "df.select(first(\"salary\")).show(truncate=False)\n",
        "df.select(last(\"salary\")).show(truncate=False)"
      ],
      "metadata": {
        "colab": {
          "base_uri": "https://localhost:8080/"
        },
        "id": "AgpJO4nRWh5q",
        "outputId": "c9f5b9a5-4fdd-4d50-dde7-b90456cfefc2"
      },
      "execution_count": 19,
      "outputs": [
        {
          "output_type": "stream",
          "name": "stdout",
          "text": [
            "+-------------+\n",
            "|first(salary)|\n",
            "+-------------+\n",
            "|3000         |\n",
            "+-------------+\n",
            "\n",
            "+------------+\n",
            "|last(salary)|\n",
            "+------------+\n",
            "|4100        |\n",
            "+------------+\n",
            "\n"
          ]
        }
      ]
    },
    {
      "cell_type": "markdown",
      "source": [
        "- Retrieves the first and last values of the `salary` column.\n"
      ],
      "metadata": {
        "id": "NOQ4oWc0Wj3M"
      }
    },
    {
      "cell_type": "markdown",
      "source": [
        "# 12. **Kurtosis**:\n"
      ],
      "metadata": {
        "id": "YmYhOZA3Wl3O"
      }
    },
    {
      "cell_type": "code",
      "source": [
        "df.select(kurtosis(\"salary\")).show(truncate=False)"
      ],
      "metadata": {
        "colab": {
          "base_uri": "https://localhost:8080/"
        },
        "id": "mGRMCoocWo9q",
        "outputId": "77d4f8d8-3c26-4176-d3af-0095b3b396b4"
      },
      "execution_count": 20,
      "outputs": [
        {
          "output_type": "stream",
          "name": "stdout",
          "text": [
            "+-------------------+\n",
            "|kurtosis(salary)   |\n",
            "+-------------------+\n",
            "|-0.6467803030303032|\n",
            "+-------------------+\n",
            "\n"
          ]
        }
      ]
    },
    {
      "cell_type": "markdown",
      "source": [
        "- Computes the kurtosis of the `salary` column.\n"
      ],
      "metadata": {
        "id": "kWQ0epH0WqkL"
      }
    },
    {
      "cell_type": "markdown",
      "source": [
        "# 13. **Max and Min Values**:\n"
      ],
      "metadata": {
        "id": "Vy-6SS0eWtvo"
      }
    },
    {
      "cell_type": "code",
      "source": [
        "df.select(max(\"salary\")).show(truncate=False)\n",
        "df.select(min(\"salary\")).show(truncate=False)"
      ],
      "metadata": {
        "colab": {
          "base_uri": "https://localhost:8080/"
        },
        "id": "W7nD8JvKWx06",
        "outputId": "0803cef5-316c-4d2b-e1ef-57a8f680505a"
      },
      "execution_count": 21,
      "outputs": [
        {
          "output_type": "stream",
          "name": "stdout",
          "text": [
            "+-----------+\n",
            "|max(salary)|\n",
            "+-----------+\n",
            "|4600       |\n",
            "+-----------+\n",
            "\n",
            "+-----------+\n",
            "|min(salary)|\n",
            "+-----------+\n",
            "|2000       |\n",
            "+-----------+\n",
            "\n"
          ]
        }
      ]
    },
    {
      "cell_type": "markdown",
      "source": [
        "- Retrieves the maximum and minimum values of the `salary` column.\n"
      ],
      "metadata": {
        "id": "c-wC8dN4WziE"
      }
    },
    {
      "cell_type": "markdown",
      "source": [
        "# 14. **Mean Value**:\n"
      ],
      "metadata": {
        "id": "w4Dgk7I0W1Pc"
      }
    },
    {
      "cell_type": "code",
      "source": [
        "df.select(mean(\"salary\")).show(truncate=False)"
      ],
      "metadata": {
        "colab": {
          "base_uri": "https://localhost:8080/"
        },
        "id": "LNS8fxQuW3lE",
        "outputId": "35c41d0c-4e47-47fc-cd53-886465860978"
      },
      "execution_count": 22,
      "outputs": [
        {
          "output_type": "stream",
          "name": "stdout",
          "text": [
            "+-----------+\n",
            "|avg(salary)|\n",
            "+-----------+\n",
            "|3400.0     |\n",
            "+-----------+\n",
            "\n"
          ]
        }
      ]
    },
    {
      "cell_type": "markdown",
      "source": [
        "- Computes the mean of the `salary` column."
      ],
      "metadata": {
        "id": "OxrDc9KFW7qO"
      }
    },
    {
      "cell_type": "markdown",
      "source": [
        "# 15. **Skewness**:\n"
      ],
      "metadata": {
        "id": "qJSlhBmEW9HL"
      }
    },
    {
      "cell_type": "code",
      "source": [
        "df.select(skewness(\"salary\")).show(truncate=False)"
      ],
      "metadata": {
        "colab": {
          "base_uri": "https://localhost:8080/"
        },
        "id": "OGsNwaRzW_nX",
        "outputId": "3bb016ae-48cb-40b7-9ff2-8a78c9b743c7"
      },
      "execution_count": 23,
      "outputs": [
        {
          "output_type": "stream",
          "name": "stdout",
          "text": [
            "+--------------------+\n",
            "|skewness(salary)    |\n",
            "+--------------------+\n",
            "|-0.12041791181069571|\n",
            "+--------------------+\n",
            "\n"
          ]
        }
      ]
    },
    {
      "cell_type": "markdown",
      "source": [
        "- Computes the skewness of the `salary` column.\n"
      ],
      "metadata": {
        "id": "cmU0NS1TXBP8"
      }
    },
    {
      "cell_type": "markdown",
      "source": [
        "# 16. **Standard Deviation**:\n"
      ],
      "metadata": {
        "id": "tJvEZ2SeXOr8"
      }
    },
    {
      "cell_type": "code",
      "source": [
        "df.select(stddev(\"salary\"), stddev_samp(\"salary\"), stddev_pop(\"salary\")).show(truncate=False)"
      ],
      "metadata": {
        "colab": {
          "base_uri": "https://localhost:8080/"
        },
        "id": "NutMg_P0XRyV",
        "outputId": "50f952d5-d018-48eb-a33f-40df9ae9c155"
      },
      "execution_count": 24,
      "outputs": [
        {
          "output_type": "stream",
          "name": "stdout",
          "text": [
            "+-----------------+-------------------+------------------+\n",
            "|stddev(salary)   |stddev_samp(salary)|stddev_pop(salary)|\n",
            "+-----------------+-------------------+------------------+\n",
            "|765.9416862050705|765.9416862050705  |726.636084983398  |\n",
            "+-----------------+-------------------+------------------+\n",
            "\n"
          ]
        }
      ]
    },
    {
      "cell_type": "markdown",
      "source": [
        "- Computes the standard deviation, sample standard deviation, and population standard deviation of the `salary` column.\n"
      ],
      "metadata": {
        "id": "FrLJcbPYXRNl"
      }
    },
    {
      "cell_type": "markdown",
      "source": [
        "# 17. **Sum and Sum Distinct**:\n"
      ],
      "metadata": {
        "id": "F9Vy5Hp9XYEe"
      }
    },
    {
      "cell_type": "code",
      "source": [
        "df.select(sum(\"salary\")).show(truncate=False)\n",
        "df.select(sumDistinct(\"salary\")).show(truncate=False)"
      ],
      "metadata": {
        "colab": {
          "base_uri": "https://localhost:8080/"
        },
        "id": "xMFWINcRXaYm",
        "outputId": "8cc044ab-57ca-4ad9-a6d7-b5f612bddde6"
      },
      "execution_count": 25,
      "outputs": [
        {
          "output_type": "stream",
          "name": "stdout",
          "text": [
            "+-----------+\n",
            "|sum(salary)|\n",
            "+-----------+\n",
            "|34000      |\n",
            "+-----------+\n",
            "\n"
          ]
        },
        {
          "output_type": "stream",
          "name": "stderr",
          "text": [
            "/usr/local/lib/python3.10/dist-packages/pyspark/sql/functions.py:988: FutureWarning: Deprecated in 3.2, use sum_distinct instead.\n",
            "  warnings.warn(\"Deprecated in 3.2, use sum_distinct instead.\", FutureWarning)\n"
          ]
        },
        {
          "output_type": "stream",
          "name": "stdout",
          "text": [
            "+--------------------+\n",
            "|sum(DISTINCT salary)|\n",
            "+--------------------+\n",
            "|20900               |\n",
            "+--------------------+\n",
            "\n"
          ]
        }
      ]
    },
    {
      "cell_type": "markdown",
      "source": [
        "- Computes the sum and sum of distinct values of the `salary` column.\n"
      ],
      "metadata": {
        "id": "C7b3KHekXco2"
      }
    },
    {
      "cell_type": "markdown",
      "source": [
        "# 18. **Variance**:\n"
      ],
      "metadata": {
        "id": "UE8fCtokXd-1"
      }
    },
    {
      "cell_type": "code",
      "source": [
        "df.select(variance(\"salary\"), var_samp(\"salary\"), var_pop(\"salary\")).show(truncate=False)"
      ],
      "metadata": {
        "colab": {
          "base_uri": "https://localhost:8080/"
        },
        "id": "K3AR71LPXgAt",
        "outputId": "2571c720-3b86-4fe8-df72-295e3c9d0dd0"
      },
      "execution_count": 26,
      "outputs": [
        {
          "output_type": "stream",
          "name": "stdout",
          "text": [
            "+-----------------+-----------------+---------------+\n",
            "|var_samp(salary) |var_samp(salary) |var_pop(salary)|\n",
            "+-----------------+-----------------+---------------+\n",
            "|586666.6666666666|586666.6666666666|528000.0       |\n",
            "+-----------------+-----------------+---------------+\n",
            "\n"
          ]
        }
      ]
    },
    {
      "cell_type": "markdown",
      "source": [
        "- Computes the variance, sample variance, and population variance of the `salary` column.\n"
      ],
      "metadata": {
        "id": "nIFnyw42XhpP"
      }
    }
  ]
}