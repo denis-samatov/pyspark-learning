{
  "nbformat": 4,
  "nbformat_minor": 0,
  "metadata": {
    "colab": {
      "provenance": []
    },
    "kernelspec": {
      "name": "python3",
      "display_name": "Python 3"
    },
    "language_info": {
      "name": "python"
    }
  },
  "cells": [
    {
      "cell_type": "markdown",
      "source": [
        "# 0. **Install PySpark**"
      ],
      "metadata": {
        "id": "TJKjcexez9Fq"
      }
    },
    {
      "cell_type": "code",
      "source": [
        "!pip install pyspark"
      ],
      "metadata": {
        "colab": {
          "base_uri": "https://localhost:8080/"
        },
        "id": "fc51oRbw0MkQ",
        "outputId": "8776e202-5778-42b3-fcc0-b385c42e6391"
      },
      "execution_count": 6,
      "outputs": [
        {
          "output_type": "stream",
          "name": "stdout",
          "text": [
            "Collecting pyspark\n",
            "  Downloading pyspark-3.5.1.tar.gz (317.0 MB)\n",
            "\u001b[2K     \u001b[90m━━━━━━━━━━━━━━━━━━━━━━━━━━━━━━━━━━━━━━━━\u001b[0m \u001b[32m317.0/317.0 MB\u001b[0m \u001b[31m4.5 MB/s\u001b[0m eta \u001b[36m0:00:00\u001b[0m\n",
            "\u001b[?25h  Preparing metadata (setup.py) ... \u001b[?25l\u001b[?25hdone\n",
            "Requirement already satisfied: py4j==0.10.9.7 in /usr/local/lib/python3.10/dist-packages (from pyspark) (0.10.9.7)\n",
            "Building wheels for collected packages: pyspark\n",
            "  Building wheel for pyspark (setup.py) ... \u001b[?25l\u001b[?25hdone\n",
            "  Created wheel for pyspark: filename=pyspark-3.5.1-py2.py3-none-any.whl size=317488491 sha256=6ad6d9d7a4431e2e7faca5c84c9de26d3727a01e98b93d80cf6115f873fad20c\n",
            "  Stored in directory: /root/.cache/pip/wheels/80/1d/60/2c256ed38dddce2fdd93be545214a63e02fbd8d74fb0b7f3a6\n",
            "Successfully built pyspark\n",
            "Installing collected packages: pyspark\n",
            "Successfully installed pyspark-3.5.1\n"
          ]
        }
      ]
    },
    {
      "cell_type": "markdown",
      "source": [
        "# 1. **Importing Libraries and Initializing Spark Session**:\n"
      ],
      "metadata": {
        "id": "bzZ3TYerkQE7"
      }
    },
    {
      "cell_type": "code",
      "source": [
        "import pyspark\n",
        "from pyspark.sql import SparkSession\n",
        "\n",
        "spark = SparkSession.builder.master(\"local[1]\") \\\n",
        "                    .appName('SparkByExamples.com') \\\n",
        "                    .getOrCreate()"
      ],
      "metadata": {
        "id": "3kJJ9HmYkTXF"
      },
      "execution_count": 7,
      "outputs": []
    },
    {
      "cell_type": "markdown",
      "source": [
        "   - Imports necessary PySpark libraries.\n",
        "   - Initializes a Spark session with the application name 'SparkByExamples.com' and runs it locally with a single thread (`local[1]`).\n"
      ],
      "metadata": {
        "id": "7DxCDbuJkVz4"
      }
    },
    {
      "cell_type": "markdown",
      "source": [
        "# 2. **Defining Schema and Sample Data**:\n"
      ],
      "metadata": {
        "id": "bv7vDDswkZJ4"
      }
    },
    {
      "cell_type": "code",
      "source": [
        "columns = [\"name\", \"languagesAtSchool\", \"currentState\"]\n",
        "data = [(\"James,,Smith\", [\"Java\", \"Scala\", \"C++\"], \"CA\"),\n",
        "        (\"Michael,Rose,\", [\"Spark\", \"Java\", \"C++\"], \"NJ\"),\n",
        "        (\"Robert,,Williams\", [\"CSharp\", \"VB\"], \"NV\")]"
      ],
      "metadata": {
        "id": "rBfpisUbka-k"
      },
      "execution_count": 8,
      "outputs": []
    },
    {
      "cell_type": "markdown",
      "source": [
        "- Defines the schema with three columns: `name`, `languagesAtSchool`, and `currentState`.\n",
        "- Defines sample data as a list of tuples, where each tuple represents a row in the DataFrame.\n"
      ],
      "metadata": {
        "id": "5VipL54Jkfqu"
      }
    },
    {
      "cell_type": "markdown",
      "source": [
        "# 3. **Creating DataFrame**:\n"
      ],
      "metadata": {
        "id": "-Kl9OjJtkhme"
      }
    },
    {
      "cell_type": "code",
      "source": [
        "df = spark.createDataFrame(data=data, schema=columns)\n",
        "df.printSchema()\n",
        "df.show(truncate=False)"
      ],
      "metadata": {
        "colab": {
          "base_uri": "https://localhost:8080/"
        },
        "id": "Bt1D8V3CkjVI",
        "outputId": "999b23fe-b5ee-47ab-a917-0cd95c5f349d"
      },
      "execution_count": 9,
      "outputs": [
        {
          "output_type": "stream",
          "name": "stdout",
          "text": [
            "root\n",
            " |-- name: string (nullable = true)\n",
            " |-- languagesAtSchool: array (nullable = true)\n",
            " |    |-- element: string (containsNull = true)\n",
            " |-- currentState: string (nullable = true)\n",
            "\n",
            "+----------------+------------------+------------+\n",
            "|name            |languagesAtSchool |currentState|\n",
            "+----------------+------------------+------------+\n",
            "|James,,Smith    |[Java, Scala, C++]|CA          |\n",
            "|Michael,Rose,   |[Spark, Java, C++]|NJ          |\n",
            "|Robert,,Williams|[CSharp, VB]      |NV          |\n",
            "+----------------+------------------+------------+\n",
            "\n"
          ]
        }
      ]
    },
    {
      "cell_type": "markdown",
      "source": [
        "   - Creates a DataFrame from the sample data and schema.\n",
        "   - Prints the schema of the DataFrame.\n",
        "   - Displays the content of the DataFrame without truncating the output.\n"
      ],
      "metadata": {
        "id": "JRqLhXXTkl1O"
      }
    },
    {
      "cell_type": "markdown",
      "source": [
        "# 4. **Concatenating Array Column**:\n"
      ],
      "metadata": {
        "id": "AcWQ2alAknK5"
      }
    },
    {
      "cell_type": "code",
      "source": [
        "from pyspark.sql.functions import col, concat_ws\n",
        "\n",
        "df2 = df.withColumn(\"languagesAtSchool\", concat_ws(\",\", col(\"languagesAtSchool\")))\n",
        "df2.printSchema()\n",
        "df2.show(truncate=False)"
      ],
      "metadata": {
        "colab": {
          "base_uri": "https://localhost:8080/"
        },
        "id": "hrzR_SQ_kpDo",
        "outputId": "8a61fe7b-0df7-4739-816c-86a08435b03a"
      },
      "execution_count": 10,
      "outputs": [
        {
          "output_type": "stream",
          "name": "stdout",
          "text": [
            "root\n",
            " |-- name: string (nullable = true)\n",
            " |-- languagesAtSchool: string (nullable = false)\n",
            " |-- currentState: string (nullable = true)\n",
            "\n",
            "+----------------+-----------------+------------+\n",
            "|name            |languagesAtSchool|currentState|\n",
            "+----------------+-----------------+------------+\n",
            "|James,,Smith    |Java,Scala,C++   |CA          |\n",
            "|Michael,Rose,   |Spark,Java,C++   |NJ          |\n",
            "|Robert,,Williams|CSharp,VB        |NV          |\n",
            "+----------------+-----------------+------------+\n",
            "\n"
          ]
        }
      ]
    },
    {
      "cell_type": "markdown",
      "source": [
        "   - Imports `col` and `concat_ws` functions from `pyspark.sql.functions`.\n",
        "   - Uses `concat_ws` to concatenate the elements of the `languagesAtSchool` array column into a single string, separated by commas.\n",
        "   - Creates a new DataFrame `df2` with the modified `languagesAtSchool` column.\n",
        "   - Prints the schema and displays the content of `df2`.\n"
      ],
      "metadata": {
        "id": "QMLqHM0FksxB"
      }
    },
    {
      "cell_type": "markdown",
      "source": [
        "# 5. **Using SQL to Concatenate Array Column**:\n"
      ],
      "metadata": {
        "id": "9UAH2-nBkuTr"
      }
    },
    {
      "cell_type": "code",
      "source": [
        "df.createOrReplaceTempView(\"ARRAY_STRING\")\n",
        "spark.sql(\"SELECT name, concat_ws(',', languagesAtSchool) AS languagesAtSchool, currentState FROM ARRAY_STRING\").show(truncate=False)"
      ],
      "metadata": {
        "colab": {
          "base_uri": "https://localhost:8080/"
        },
        "id": "NwgTxeK5kwO-",
        "outputId": "48d83b86-ee9c-403c-cde0-1465ba55caf8"
      },
      "execution_count": 11,
      "outputs": [
        {
          "output_type": "stream",
          "name": "stdout",
          "text": [
            "+----------------+-----------------+------------+\n",
            "|name            |languagesAtSchool|currentState|\n",
            "+----------------+-----------------+------------+\n",
            "|James,,Smith    |Java,Scala,C++   |CA          |\n",
            "|Michael,Rose,   |Spark,Java,C++   |NJ          |\n",
            "|Robert,,Williams|CSharp,VB        |NV          |\n",
            "+----------------+-----------------+------------+\n",
            "\n"
          ]
        }
      ]
    },
    {
      "cell_type": "markdown",
      "source": [
        "   - Creates a temporary view `ARRAY_STRING` from the DataFrame `df`.\n",
        "   - Runs an SQL query to concatenate the `languagesAtSchool` array column using `concat_ws` and displays the result.\n"
      ],
      "metadata": {
        "id": "dPg3dRrlkyTQ"
      }
    }
  ]
}